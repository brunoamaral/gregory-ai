{
 "cells": [
  {
   "cell_type": "markdown",
   "metadata": {},
   "source": [
    "# **Training Notebook (NovaSBE X GregoryAI)**"
   ]
  },
  {
   "cell_type": "markdown",
   "metadata": {},
   "source": [
    "![Description of the image](../images/train_tune_pipeline_diagram.png)"
   ]
  },
  {
   "cell_type": "markdown",
   "metadata": {},
   "source": [
    "## 1. Import libraries"
   ]
  },
  {
   "cell_type": "code",
   "execution_count": 2,
   "metadata": {},
   "outputs": [
    {
     "name": "stdout",
     "output_type": "stream",
     "text": [
      "WARNING:tensorflow:From c:\\Users\\marti\\venv\\pbl\\Lib\\site-packages\\tf_keras\\src\\losses.py:2976: The name tf.losses.sparse_softmax_cross_entropy is deprecated. Please use tf.compat.v1.losses.sparse_softmax_cross_entropy instead.\n",
      "\n"
     ]
    }
   ],
   "source": [
    "import os\n",
    "import sys\n",
    "import pandas as pd\n",
    "import numpy as np\n",
    "from sklearn.model_selection import train_test_split\n",
    "from datetime import datetime\n",
    "import warnings\n",
    "\n",
    "#supress warnings\n",
    "warnings.filterwarnings(\"ignore\")\n",
    "\n",
    "# Add the parent directory of code_utils to the Python path\n",
    "sys.path.append(os.path.abspath(os.path.join('..')))\n",
    "\n",
    "from code_utils.text_utils import *  # Import everything from text_utils.py\n",
    "from code_utils.model_utils.LSTM_algorithm_utils import *  \n",
    "from code_utils.model_utils.BERT_algorithm_utils import *  \n",
    "from code_utils.model_utils.LGBM_algorithm_utils import *  \n",
    "from code_utils.model_utils.classify_model_choose import *\n",
    "from code_utils.download_utils import * \n",
    "from code_utils.pseudo_utils.utils_pseudo import *\n",
    "from code_utils.summarization_utils import *"
   ]
  },
  {
   "cell_type": "markdown",
   "metadata": {},
   "source": [
    "## 2. Clean and Preprocess"
   ]
  },
  {
   "cell_type": "code",
   "execution_count": 3,
   "metadata": {},
   "outputs": [
    {
     "data": {
      "text/html": [
       "<div>\n",
       "<style scoped>\n",
       "    .dataframe tbody tr th:only-of-type {\n",
       "        vertical-align: middle;\n",
       "    }\n",
       "\n",
       "    .dataframe tbody tr th {\n",
       "        vertical-align: top;\n",
       "    }\n",
       "\n",
       "    .dataframe thead th {\n",
       "        text-align: right;\n",
       "    }\n",
       "</style>\n",
       "<table border=\"1\" class=\"dataframe\">\n",
       "  <thead>\n",
       "    <tr style=\"text-align: right;\">\n",
       "      <th></th>\n",
       "      <th>text_processed</th>\n",
       "      <th>relevant</th>\n",
       "    </tr>\n",
       "    <tr>\n",
       "      <th>article_id</th>\n",
       "      <th></th>\n",
       "      <th></th>\n",
       "    </tr>\n",
       "  </thead>\n",
       "  <tbody>\n",
       "    <tr>\n",
       "      <th>1</th>\n",
       "      <td>covid19 hhv6 mog antibody perfect storm j neur...</td>\n",
       "      <td>0</td>\n",
       "    </tr>\n",
       "    <tr>\n",
       "      <th>2</th>\n",
       "      <td>migraine associated brain anatomical alteratio...</td>\n",
       "      <td>0</td>\n",
       "    </tr>\n",
       "    <tr>\n",
       "      <th>3</th>\n",
       "      <td>patient satisfaction quality counseling provid...</td>\n",
       "      <td>0</td>\n",
       "    </tr>\n",
       "    <tr>\n",
       "      <th>4</th>\n",
       "      <td>rare case spinal neurosarcoidosis concomitant ...</td>\n",
       "      <td>unlabeled</td>\n",
       "    </tr>\n",
       "    <tr>\n",
       "      <th>5</th>\n",
       "      <td>evaluation urinary tract infection following c...</td>\n",
       "      <td>0</td>\n",
       "    </tr>\n",
       "  </tbody>\n",
       "</table>\n",
       "</div>"
      ],
      "text/plain": [
       "                                               text_processed   relevant\n",
       "article_id                                                              \n",
       "1           covid19 hhv6 mog antibody perfect storm j neur...          0\n",
       "2           migraine associated brain anatomical alteratio...          0\n",
       "3           patient satisfaction quality counseling provid...          0\n",
       "4           rare case spinal neurosarcoidosis concomitant ...  unlabeled\n",
       "5           evaluation urinary tract infection following c...          0"
      ]
     },
     "execution_count": 3,
     "metadata": {},
     "output_type": "execute_result"
    }
   ],
   "source": [
    "dataset_path = os.path.join('../data/articles_08-06-2024_14h13m04s.csv')\n",
    "# additional step to ensure consistency in the index column formating as article_id\n",
    "articles_df = pd.read_csv(dataset_path)\n",
    "\n",
    "# if the first column is not article_id, remove that first column\n",
    "\n",
    "if articles_df.columns[0] != 'article_id':\n",
    "    articles_df = articles_df.drop(columns=articles_df.columns[0])\n",
    "\n",
    "articles_clean_df = load_and_format_dataset(dataset_path, text_cleaning_pd_series)\n",
    "\n",
    "articles_clean_df.head()"
   ]
  },
  {
   "cell_type": "code",
   "execution_count": null,
   "metadata": {},
   "outputs": [
    {
     "data": {
      "text/plain": [
       "relevant\n",
       "unlabeled    22050\n",
       "0             1532\n",
       "1             1008\n",
       "Name: count, dtype: int64"
      ]
     },
     "execution_count": 3,
     "metadata": {},
     "output_type": "execute_result"
    }
   ],
   "source": [
    "articles_clean_df.relevant.value_counts()"
   ]
  },
  {
   "cell_type": "markdown",
   "metadata": {},
   "source": [
    "## 3. Data Split into train, validation and test sets"
   ]
  },
  {
   "cell_type": "code",
   "execution_count": 4,
   "metadata": {},
   "outputs": [],
   "source": [
    "# let's divide thr articles_clean_df into labelled and unlabelled data\n",
    "\n",
    "unlabelled_df = articles_clean_df[articles_clean_df.relevant == 'unlabeled']\n",
    "labelled_df = articles_clean_df[articles_clean_df.relevant != 'unlabeled']"
   ]
  },
  {
   "cell_type": "code",
   "execution_count": 5,
   "metadata": {},
   "outputs": [
    {
     "name": "stdout",
     "output_type": "stream",
     "text": [
      "Train set distribution:\n",
      "relevant\n",
      "0    0.603264\n",
      "1    0.396736\n",
      "Name: proportion, dtype: float64\n",
      "\n",
      "Validation set distribution:\n",
      "relevant\n",
      "0    0.602094\n",
      "1    0.397906\n",
      "Name: proportion, dtype: float64\n",
      "\n",
      "Test set distribution:\n",
      "relevant\n",
      "0    0.603675\n",
      "1    0.396325\n",
      "Name: proportion, dtype: float64\n",
      "Number of articles in the training set: 1777\n",
      "Number of articles in the validation set: 382\n",
      "Number of articles in the test set: 381\n"
     ]
    }
   ],
   "source": [
    "relevant_column = 'relevant'\n",
    "\n",
    "# First split: 85% train_val and 15% test\n",
    "train_val_df, test_df = train_test_split(\n",
    "    labelled_df,\n",
    "    test_size=0.15,\n",
    "    stratify=labelled_df[relevant_column],\n",
    "    random_state=69\n",
    ")\n",
    "\n",
    "# Second split: ~88.235% train and ~11.765% val from train_val_df\n",
    "train_df, val_df = train_test_split(\n",
    "    train_val_df,\n",
    "    test_size=0.1765,  # 0.1765 * 0.85 ≈ 0.15 of the original dataset\n",
    "    stratify=train_val_df[relevant_column],\n",
    "    random_state=69\n",
    ")\n",
    "\n",
    "# Verifying the splits\n",
    "print(\"Train set distribution:\")\n",
    "print(train_df[relevant_column].value_counts(normalize=True))\n",
    "print(\"\\nValidation set distribution:\")\n",
    "print(val_df[relevant_column].value_counts(normalize=True))\n",
    "print(\"\\nTest set distribution:\")\n",
    "print(test_df[relevant_column].value_counts(normalize=True))\n",
    "\n",
    "# Check the number of articles in each set\n",
    "print(f\"Number of articles in the training set: {len(train_df)}\")\n",
    "print(f\"Number of articles in the validation set: {len(val_df)}\")\n",
    "print(f\"Number of articles in the test set: {len(test_df)}\")\n"
   ]
  },
  {
   "cell_type": "markdown",
   "metadata": {},
   "source": [
    "## 4. Pseudo Labelling"
   ]
  },
  {
   "cell_type": "markdown",
   "metadata": {},
   "source": [
    "Here you may choose to perform the Pseudo-Labelling task: \n",
    "\n",
    "Self-Training with a Traditional ML model (in this example we have LogisticRegression but you can test with others) \n",
    "\n",
    "Co-training approach (that is a diferent type of pseudolabelling that uses a combination of two traditional machine learning models), \n",
    "\n",
    "Or the BERT model uncased.\n",
    "\n",
    "Our recomendation, to achieve best results, is BERT, but we understand it can be computer intensive and tricky to run.\n",
    "Below you have the different sections for the different approaches."
   ]
  },
  {
   "cell_type": "markdown",
   "metadata": {},
   "source": [
    "### 4.1 Using BERT"
   ]
  },
  {
   "cell_type": "markdown",
   "metadata": {},
   "source": [
    "First, let's check the distribution of the token length of the articles texts. By doing this we can check what's the optimal maximum lenght to use as a BERT parameter."
   ]
  },
  {
   "cell_type": "code",
   "execution_count": null,
   "metadata": {},
   "outputs": [
    {
     "name": "stderr",
     "output_type": "stream",
     "text": [
      "Some weights of the PyTorch model were not used when initializing the TF 2.0 model TFBertModel: ['cls.seq_relationship.weight', 'cls.predictions.decoder.weight', 'cls.predictions.transform.dense.bias', 'cls.predictions.transform.LayerNorm.weight', 'cls.predictions.bias', 'cls.predictions.transform.dense.weight', 'cls.predictions.transform.LayerNorm.bias', 'cls.predictions.decoder.bias', 'cls.seq_relationship.bias']\n",
      "- This IS expected if you are initializing TFBertModel from a PyTorch model trained on another task or with another architecture (e.g. initializing a TFBertForSequenceClassification model from a BertForPreTraining model).\n",
      "- This IS NOT expected if you are initializing TFBertModel from a PyTorch model that you expect to be exactly identical (e.g. initializing a TFBertForSequenceClassification model from a BertForSequenceClassification model).\n",
      "All the weights of TFBertModel were initialized from the PyTorch model.\n",
      "If your task is similar to the task the model of the checkpoint was trained on, you can already use TFBertModel for predictions without further training.\n"
     ]
    },
    {
     "data": {
      "image/png": "[encoded data removed]",
      "text/plain": [
       "<Figure size 1800x600 with 3 Axes>"
      ]
     },
     "metadata": {},
     "output_type": "display_data"
    },
    {
     "name": "stdout",
     "output_type": "stream",
     "text": [
      "Training Dataset Token Length Distribution:\n",
      "length_category\n",
      "0-200        1381\n",
      "200-400       387\n",
      "400-600         5\n",
      "600-800         0\n",
      "800-1000        1\n",
      "1000-1200       0\n",
      "1200+           3\n",
      "Name: count, dtype: int64\n",
      "\n",
      "Validation Dataset Token Length Distribution:\n",
      "length_category\n",
      "0-200        303\n",
      "200-400       78\n",
      "400-600        0\n",
      "600-800        0\n",
      "800-1000       0\n",
      "1000-1200      0\n",
      "1200+          1\n",
      "Name: count, dtype: int64\n",
      "\n",
      "Test Dataset Token Length Distribution:\n",
      "length_category\n",
      "0-200        294\n",
      "200-400       84\n",
      "400-600        2\n",
      "600-800        1\n",
      "800-1000       0\n",
      "1000-1200      0\n",
      "1200+          0\n",
      "Name: count, dtype: int64\n"
     ]
    }
   ],
   "source": [
    "# initialize the BERT classifier\n",
    "bert_classifier_pseudo = BERT_Classifier()\n",
    "\n",
    "# use the dedicated function to calulate the token lenghts distribution\n",
    "bert_classifier_pseudo.calculate_and_plot_token_lengths(train_df, val_df, test_df)"
   ]
  },
  {
   "cell_type": "markdown",
   "metadata": {},
   "source": [
    "From the results of the distribution analysis we can see that 400 for max_len would be the optimal value. Since that would be a high computational demanding value, instead to set the max_len to a lower value, truncating, and resking leaving out valuable information, there's also the solution of performing a summarization of the text sequences (this way hopefully retaining a higher degree of information).\n",
    "\n",
    "We leave that option here, in the cell below, in case the user wants to test this alternative, instead of simple truncation. \n",
    "\n",
    "We warn, however, that this process should take several hours to summarize every article text, and can be computational intensive since it uses the potetialities of transformers library.\n",
    "Based on an experiment we performed, summarizing the text for 6000 articles, took 2 hours. So, the summarization of something like 25000 text inputs would take several hours, always depending on the resources of the machine used, off course."
   ]
  },
  {
   "cell_type": "markdown",
   "metadata": {},
   "source": [
    "### 4.1.1 With Summarization Option"
   ]
  },
  {
   "cell_type": "code",
   "execution_count": null,
   "metadata": {},
   "outputs": [],
   "source": [
    "# Using the dedicated function we developed to summarize the texts\n",
    "\n",
    "# we keep all parameters as default values, but you can change them if you want\n",
    "text_summarization(train_df)\n",
    "text_summarization(val_df)\n",
    "text_summarization(test_df)\n",
    "\n",
    "# See results, comparing the original text with the summary\n",
    "print(train_df[['text_processed', 'summary']].head())\n",
    "print(val_df[['text_processed', 'summary']].head())\n",
    "print(test_df[['text_processed', 'summary']].head())\n",
    "\n",
    "# [WARNING] This step can take several hourse to run"
   ]
  },
  {
   "cell_type": "markdown",
   "metadata": {},
   "source": [
    "### 4.1.2 Without Summarization Option"
   ]
  },
  {
   "cell_type": "code",
   "execution_count": null,
   "metadata": {},
   "outputs": [],
   "source": [
    "# choose max_lenght for BERT\n",
    "\n",
    "max_len = 128 # optimal would be 400, but 128 chosen for computational reasons"
   ]
  },
  {
   "cell_type": "code",
   "execution_count": null,
   "metadata": {},
   "outputs": [],
   "source": [
    "tokenizer = BertTokenizer.from_pretrained('bert-base-uncased')"
   ]
  },
  {
   "cell_type": "code",
   "execution_count": null,
   "metadata": {},
   "outputs": [
    {
     "name": "stderr",
     "output_type": "stream",
     "text": [
      "Some weights of the PyTorch model were not used when initializing the TF 2.0 model TFBertModel: ['cls.predictions.transform.dense.weight', 'cls.seq_relationship.weight', 'cls.predictions.transform.dense.bias', 'cls.seq_relationship.bias', 'cls.predictions.bias', 'cls.predictions.transform.LayerNorm.weight', 'cls.predictions.transform.LayerNorm.bias']\n",
      "- This IS expected if you are initializing TFBertModel from a PyTorch model trained on another task or with another architecture (e.g. initializing a TFBertForSequenceClassification model from a BertForPreTraining model).\n",
      "- This IS NOT expected if you are initializing TFBertModel from a PyTorch model that you expect to be exactly identical (e.g. initializing a TFBertForSequenceClassification model from a BertForSequenceClassification model).\n",
      "All the weights of TFBertModel were initialized from the PyTorch model.\n",
      "If your task is similar to the task the model of the checkpoint was trained on, you can already use TFBertModel for predictions without further training.\n"
     ]
    },
    {
     "name": "stdout",
     "output_type": "stream",
     "text": [
      "Epoch 1/8\n",
      "112/112 - 43s - loss: 0.4646 - accuracy: 0.7845 - val_loss: 0.3901 - val_accuracy: 0.8220 - 43s/epoch - 382ms/step\n",
      "Epoch 2/8\n",
      "112/112 - 27s - loss: 0.2900 - accuracy: 0.8863 - val_loss: 0.3967 - val_accuracy: 0.8351 - 27s/epoch - 237ms/step\n",
      "Epoch 3/8\n",
      "112/112 - 27s - loss: 0.2167 - accuracy: 0.9178 - val_loss: 0.2715 - val_accuracy: 0.8927 - 27s/epoch - 239ms/step\n",
      "Epoch 4/8\n",
      "112/112 - 27s - loss: 0.1489 - accuracy: 0.9527 - val_loss: 0.3021 - val_accuracy: 0.9058 - 27s/epoch - 240ms/step\n",
      "Epoch 5/8\n",
      "112/112 - 27s - loss: 0.1076 - accuracy: 0.9657 - val_loss: 0.3429 - val_accuracy: 0.8927 - 27s/epoch - 241ms/step\n",
      "Epoch 6/8\n",
      "112/112 - 27s - loss: 0.0879 - accuracy: 0.9752 - val_loss: 0.3293 - val_accuracy: 0.8953 - 27s/epoch - 240ms/step\n",
      "690/690 [==============================] - 96s 135ms/step\n"
     ]
    },
    {
     "name": "stderr",
     "output_type": "stream",
     "text": [
      "Some weights of the PyTorch model were not used when initializing the TF 2.0 model TFBertModel: ['cls.predictions.transform.dense.weight', 'cls.seq_relationship.weight', 'cls.predictions.transform.dense.bias', 'cls.seq_relationship.bias', 'cls.predictions.bias', 'cls.predictions.transform.LayerNorm.weight', 'cls.predictions.transform.LayerNorm.bias']\n",
      "- This IS expected if you are initializing TFBertModel from a PyTorch model trained on another task or with another architecture (e.g. initializing a TFBertForSequenceClassification model from a BertForPreTraining model).\n",
      "- This IS NOT expected if you are initializing TFBertModel from a PyTorch model that you expect to be exactly identical (e.g. initializing a TFBertForSequenceClassification model from a BertForSequenceClassification model).\n",
      "All the weights of TFBertModel were initialized from the PyTorch model.\n",
      "If your task is similar to the task the model of the checkpoint was trained on, you can already use TFBertModel for predictions without further training.\n"
     ]
    },
    {
     "name": "stdout",
     "output_type": "stream",
     "text": [
      "Epoch 1/8\n",
      "1204/1204 - 286s - loss: 0.1736 - accuracy: 0.9310 - val_loss: 0.3657 - val_accuracy: 0.8796 - 286s/epoch - 238ms/step\n",
      "Epoch 2/8\n",
      "1204/1204 - 272s - loss: 0.0697 - accuracy: 0.9767 - val_loss: 0.4538 - val_accuracy: 0.8770 - 272s/epoch - 226ms/step\n",
      "Epoch 3/8\n",
      "1204/1204 - 273s - loss: 0.0416 - accuracy: 0.9864 - val_loss: 0.4145 - val_accuracy: 0.8953 - 273s/epoch - 227ms/step\n",
      "Epoch 4/8\n",
      "1204/1204 - 273s - loss: 0.0331 - accuracy: 0.9888 - val_loss: 0.4652 - val_accuracy: 0.8927 - 273s/epoch - 226ms/step\n",
      "143/143 [==============================] - 22s 135ms/step\n"
     ]
    },
    {
     "name": "stderr",
     "output_type": "stream",
     "text": [
      "Some weights of the PyTorch model were not used when initializing the TF 2.0 model TFBertModel: ['cls.predictions.transform.dense.weight', 'cls.seq_relationship.weight', 'cls.predictions.transform.dense.bias', 'cls.seq_relationship.bias', 'cls.predictions.bias', 'cls.predictions.transform.LayerNorm.weight', 'cls.predictions.transform.LayerNorm.bias']\n",
      "- This IS expected if you are initializing TFBertModel from a PyTorch model trained on another task or with another architecture (e.g. initializing a TFBertForSequenceClassification model from a BertForPreTraining model).\n",
      "- This IS NOT expected if you are initializing TFBertModel from a PyTorch model that you expect to be exactly identical (e.g. initializing a TFBertForSequenceClassification model from a BertForSequenceClassification model).\n",
      "All the weights of TFBertModel were initialized from the PyTorch model.\n",
      "If your task is similar to the task the model of the checkpoint was trained on, you can already use TFBertModel for predictions without further training.\n"
     ]
    },
    {
     "name": "stdout",
     "output_type": "stream",
     "text": [
      "Epoch 1/8\n",
      "1380/1380 - 327s - loss: 0.2078 - accuracy: 0.9110 - val_loss: 0.3493 - val_accuracy: 0.8874 - 327s/epoch - 237ms/step\n",
      "Epoch 2/8\n",
      "1380/1380 - 312s - loss: 0.0916 - accuracy: 0.9656 - val_loss: 0.3771 - val_accuracy: 0.9110 - 312s/epoch - 226ms/step\n",
      "Epoch 3/8\n",
      "1380/1380 - 313s - loss: 0.0594 - accuracy: 0.9787 - val_loss: 0.3564 - val_accuracy: 0.9058 - 313s/epoch - 227ms/step\n",
      "Epoch 4/8\n",
      "1380/1380 - 313s - loss: 0.0377 - accuracy: 0.9873 - val_loss: 0.4848 - val_accuracy: 0.9084 - 313s/epoch - 227ms/step\n",
      "55/55 [==============================] - 10s 136ms/step\n"
     ]
    },
    {
     "name": "stderr",
     "output_type": "stream",
     "text": [
      "Some weights of the PyTorch model were not used when initializing the TF 2.0 model TFBertModel: ['cls.predictions.transform.dense.weight', 'cls.seq_relationship.weight', 'cls.predictions.transform.dense.bias', 'cls.seq_relationship.bias', 'cls.predictions.bias', 'cls.predictions.transform.LayerNorm.weight', 'cls.predictions.transform.LayerNorm.bias']\n",
      "- This IS expected if you are initializing TFBertModel from a PyTorch model trained on another task or with another architecture (e.g. initializing a TFBertForSequenceClassification model from a BertForPreTraining model).\n",
      "- This IS NOT expected if you are initializing TFBertModel from a PyTorch model that you expect to be exactly identical (e.g. initializing a TFBertForSequenceClassification model from a BertForSequenceClassification model).\n",
      "All the weights of TFBertModel were initialized from the PyTorch model.\n",
      "If your task is similar to the task the model of the checkpoint was trained on, you can already use TFBertModel for predictions without further training.\n"
     ]
    },
    {
     "name": "stdout",
     "output_type": "stream",
     "text": [
      "Epoch 1/8\n",
      "1448/1448 - 342s - loss: 0.2314 - accuracy: 0.8980 - val_loss: 0.4380 - val_accuracy: 0.8822 - 342s/epoch - 236ms/step\n",
      "Epoch 2/8\n",
      "1448/1448 - 327s - loss: 0.1100 - accuracy: 0.9578 - val_loss: 0.3847 - val_accuracy: 0.8979 - 327s/epoch - 226ms/step\n",
      "Epoch 3/8\n",
      "1448/1448 - 328s - loss: 0.0658 - accuracy: 0.9767 - val_loss: 0.4794 - val_accuracy: 0.8953 - 328s/epoch - 227ms/step\n",
      "Epoch 4/8\n",
      "1448/1448 - 328s - loss: 0.0436 - accuracy: 0.9850 - val_loss: 0.4613 - val_accuracy: 0.9005 - 328s/epoch - 227ms/step\n",
      "Epoch 5/8\n",
      "1448/1448 - 328s - loss: 0.0357 - accuracy: 0.9867 - val_loss: 0.4866 - val_accuracy: 0.8953 - 328s/epoch - 226ms/step\n",
      "21/21 [==============================] - 6s 137ms/step\n"
     ]
    },
    {
     "name": "stderr",
     "output_type": "stream",
     "text": [
      "Some weights of the PyTorch model were not used when initializing the TF 2.0 model TFBertModel: ['cls.predictions.transform.dense.weight', 'cls.seq_relationship.weight', 'cls.predictions.transform.dense.bias', 'cls.seq_relationship.bias', 'cls.predictions.bias', 'cls.predictions.transform.LayerNorm.weight', 'cls.predictions.transform.LayerNorm.bias']\n",
      "- This IS expected if you are initializing TFBertModel from a PyTorch model trained on another task or with another architecture (e.g. initializing a TFBertForSequenceClassification model from a BertForPreTraining model).\n",
      "- This IS NOT expected if you are initializing TFBertModel from a PyTorch model that you expect to be exactly identical (e.g. initializing a TFBertForSequenceClassification model from a BertForSequenceClassification model).\n",
      "All the weights of TFBertModel were initialized from the PyTorch model.\n",
      "If your task is similar to the task the model of the checkpoint was trained on, you can already use TFBertModel for predictions without further training.\n"
     ]
    },
    {
     "name": "stdout",
     "output_type": "stream",
     "text": [
      "Epoch 1/8\n",
      "1474/1474 - 349s - loss: 0.2353 - accuracy: 0.8993 - val_loss: 0.3803 - val_accuracy: 0.8901 - 349s/epoch - 237ms/step\n",
      "Epoch 2/8\n",
      "1474/1474 - 334s - loss: 0.1129 - accuracy: 0.9574 - val_loss: 0.4181 - val_accuracy: 0.8953 - 334s/epoch - 226ms/step\n",
      "Epoch 3/8\n",
      "1474/1474 - 335s - loss: 0.0660 - accuracy: 0.9765 - val_loss: 0.4550 - val_accuracy: 0.9031 - 335s/epoch - 228ms/step\n",
      "Epoch 4/8\n",
      "1474/1474 - 334s - loss: 0.0464 - accuracy: 0.9839 - val_loss: 0.4861 - val_accuracy: 0.9031 - 334s/epoch - 227ms/step\n",
      "8/8 [==============================] - 2s 152ms/step\n"
     ]
    },
    {
     "name": "stderr",
     "output_type": "stream",
     "text": [
      "Some weights of the PyTorch model were not used when initializing the TF 2.0 model TFBertModel: ['cls.predictions.transform.dense.weight', 'cls.seq_relationship.weight', 'cls.predictions.transform.dense.bias', 'cls.seq_relationship.bias', 'cls.predictions.bias', 'cls.predictions.transform.LayerNorm.weight', 'cls.predictions.transform.LayerNorm.bias']\n",
      "- This IS expected if you are initializing TFBertModel from a PyTorch model trained on another task or with another architecture (e.g. initializing a TFBertForSequenceClassification model from a BertForPreTraining model).\n",
      "- This IS NOT expected if you are initializing TFBertModel from a PyTorch model that you expect to be exactly identical (e.g. initializing a TFBertForSequenceClassification model from a BertForSequenceClassification model).\n",
      "All the weights of TFBertModel were initialized from the PyTorch model.\n",
      "If your task is similar to the task the model of the checkpoint was trained on, you can already use TFBertModel for predictions without further training.\n"
     ]
    },
    {
     "name": "stdout",
     "output_type": "stream",
     "text": [
      "Epoch 1/8\n",
      "1482/1482 - 350s - loss: 0.2388 - accuracy: 0.8952 - val_loss: 0.3796 - val_accuracy: 0.8822 - 350s/epoch - 236ms/step\n",
      "Epoch 2/8\n",
      "1482/1482 - 336s - loss: 0.1156 - accuracy: 0.9549 - val_loss: 0.4122 - val_accuracy: 0.8979 - 336s/epoch - 227ms/step\n",
      "Epoch 3/8\n",
      "1482/1482 - 336s - loss: 0.0675 - accuracy: 0.9754 - val_loss: 0.4633 - val_accuracy: 0.8979 - 336s/epoch - 227ms/step\n",
      "Epoch 4/8\n",
      "1482/1482 - 335s - loss: 0.0481 - accuracy: 0.9829 - val_loss: 0.4835 - val_accuracy: 0.8953 - 335s/epoch - 226ms/step\n",
      "4/4 [==============================] - 3s 139ms/step\n"
     ]
    },
    {
     "name": "stderr",
     "output_type": "stream",
     "text": [
      "Some weights of the PyTorch model were not used when initializing the TF 2.0 model TFBertModel: ['cls.predictions.transform.dense.weight', 'cls.seq_relationship.weight', 'cls.predictions.transform.dense.bias', 'cls.seq_relationship.bias', 'cls.predictions.bias', 'cls.predictions.transform.LayerNorm.weight', 'cls.predictions.transform.LayerNorm.bias']\n",
      "- This IS expected if you are initializing TFBertModel from a PyTorch model trained on another task or with another architecture (e.g. initializing a TFBertForSequenceClassification model from a BertForPreTraining model).\n",
      "- This IS NOT expected if you are initializing TFBertModel from a PyTorch model that you expect to be exactly identical (e.g. initializing a TFBertForSequenceClassification model from a BertForSequenceClassification model).\n",
      "All the weights of TFBertModel were initialized from the PyTorch model.\n",
      "If your task is similar to the task the model of the checkpoint was trained on, you can already use TFBertModel for predictions without further training.\n"
     ]
    },
    {
     "name": "stdout",
     "output_type": "stream",
     "text": [
      "Epoch 1/8\n",
      "1484/1484 - 350s - loss: 0.2453 - accuracy: 0.8930 - val_loss: 0.3979 - val_accuracy: 0.8979 - 350s/epoch - 236ms/step\n",
      "Epoch 2/8\n",
      "1484/1484 - 335s - loss: 0.1212 - accuracy: 0.9522 - val_loss: 0.4107 - val_accuracy: 0.8848 - 335s/epoch - 226ms/step\n",
      "Epoch 3/8\n",
      "1484/1484 - 337s - loss: 0.0708 - accuracy: 0.9744 - val_loss: 0.4468 - val_accuracy: 0.8979 - 337s/epoch - 227ms/step\n",
      "Epoch 4/8\n",
      "1484/1484 - 340s - loss: 0.0497 - accuracy: 0.9818 - val_loss: 0.4928 - val_accuracy: 0.9031 - 340s/epoch - 229ms/step\n",
      "3/3 [==============================] - 3s 133ms/step\n"
     ]
    },
    {
     "name": "stderr",
     "output_type": "stream",
     "text": [
      "WARNING:absl:Found untraced functions such as serving, embeddings_layer_call_fn, embeddings_layer_call_and_return_conditional_losses, encoder_layer_call_fn, encoder_layer_call_and_return_conditional_losses while saving (showing 5 of 421). These functions will not be directly callable after loading.\n"
     ]
    },
    {
     "name": "stdout",
     "output_type": "stream",
     "text": [
      "INFO:tensorflow:Assets written to: models\\pseudo_labelling\\pseudo_bert_model\\assets\n"
     ]
    },
    {
     "name": "stderr",
     "output_type": "stream",
     "text": [
      "INFO:tensorflow:Assets written to: models\\pseudo_labelling\\pseudo_bert_model\\assets\n"
     ]
    },
    {
     "name": "stdout",
     "output_type": "stream",
     "text": [
      "Model saved to models\\pseudo_labelling\\pseudo_bert_model\n",
      "Pseudo-labelled data saved to models\\pseudo_labelling\\pseudo_labels_bert.csv\n"
     ]
    }
   ],
   "source": [
    "labelled_train_df = train_df[['text_processed', 'relevant']]\n",
    "val_df_pseudo = val_df[['text_processed', 'relevant']]\n",
    "unlabelled_data_pseudo = unlabelled_df[['text_processed']]\n",
    "\n",
    "final_labelled_train_df = bert_iterative_training(tokenizer, \n",
    "                                                  unlabelled_data_pseudo, \n",
    "                                                  labelled_train_df, \n",
    "                                                  val_df_pseudo, \n",
    "                                                  dense_units=48, \n",
    "                                                  learning_rate=1e-5, \n",
    "                                                  max_len=max_len, \n",
    "                                                  confidence_threshold=0.9, \n",
    "                                                  max_iterations=7)"
   ]
  },
  {
   "cell_type": "markdown",
   "metadata": {},
   "source": [
    "### 4.2 Using Traditional ML + vectorizer (Self-Training)"
   ]
  },
  {
   "cell_type": "markdown",
   "metadata": {},
   "source": [
    "If you aren't able to run BERT to perform the pseudolabelling, \n",
    "or just want a lighter version, this alternative is ideal."
   ]
  },
  {
   "cell_type": "code",
   "execution_count": 41,
   "metadata": {},
   "outputs": [],
   "source": [
    "from sklearn.feature_extraction.text import TfidfVectorizer\n",
    "from sklearn.linear_model import LogisticRegression\n",
    "\n",
    "vectorizer = TfidfVectorizer()\n",
    "model = LogisticRegression()\n",
    "\n",
    "labelled_train_df = train_df[['text_processed', 'relevant']]\n",
    "val_df_pseudo = val_df[['text_processed', 'relevant']]\n",
    "unlabelled_data_pseudo = unlabelled_df[['text_processed']]\n",
    "\n",
    "pseudo_labels_self, _, _, _ = self_training(model, vectorizer, unlabelled_data_pseudo, labelled_train_df, val_df_pseudo, confidence_threshold=0.9)"
   ]
  },
  {
   "cell_type": "markdown",
   "metadata": {},
   "source": [
    "## 5. Train the Model and Store Model Weights"
   ]
  },
  {
   "cell_type": "markdown",
   "metadata": {},
   "source": [
    "Again, here you may choose from different options to train the data:\n",
    "\n",
    "1 - BERT (Pubmed), pre-trained weights are already available to use in classification\n",
    "\n",
    "2 - Backcup ML Model LGBM (Tfidf), pre-trained weights are already available to use in classification\n",
    "\n",
    "3 - You can also easily implement the LSTM option, custom class with methods is provided in LSTM_algortithm.py file and pre-trained weights are already available to use in classification.\n",
    "\n",
    "Our recomendation, to achieve best results, is BERT again, but we understand it can be computer intensive and tricky to run.\n",
    "Below you have the different sections for the different approaches."
   ]
  },
  {
   "cell_type": "code",
   "execution_count": 6,
   "metadata": {},
   "outputs": [
    {
     "data": {
      "text/html": [
       "<div>\n",
       "<style scoped>\n",
       "    .dataframe tbody tr th:only-of-type {\n",
       "        vertical-align: middle;\n",
       "    }\n",
       "\n",
       "    .dataframe tbody tr th {\n",
       "        vertical-align: top;\n",
       "    }\n",
       "\n",
       "    .dataframe thead th {\n",
       "        text-align: right;\n",
       "    }\n",
       "</style>\n",
       "<table border=\"1\" class=\"dataframe\">\n",
       "  <thead>\n",
       "    <tr style=\"text-align: right;\">\n",
       "      <th></th>\n",
       "      <th>text_processed</th>\n",
       "      <th>relevant</th>\n",
       "      <th>predicted_label</th>\n",
       "      <th>confidence</th>\n",
       "    </tr>\n",
       "    <tr>\n",
       "      <th>article_id</th>\n",
       "      <th></th>\n",
       "      <th></th>\n",
       "      <th></th>\n",
       "      <th></th>\n",
       "    </tr>\n",
       "  </thead>\n",
       "  <tbody>\n",
       "    <tr>\n",
       "      <th>11468</th>\n",
       "      <td>parthenolide suppresses helper 17 alleviates e...</td>\n",
       "      <td>1</td>\n",
       "      <td>NaN</td>\n",
       "      <td>NaN</td>\n",
       "    </tr>\n",
       "    <tr>\n",
       "      <th>23015</th>\n",
       "      <td>immunosuppressive effects two probiotics lacto...</td>\n",
       "      <td>1</td>\n",
       "      <td>NaN</td>\n",
       "      <td>NaN</td>\n",
       "    </tr>\n",
       "    <tr>\n",
       "      <th>5101</th>\n",
       "      <td>diagnosis alzheimers disease related dementia ...</td>\n",
       "      <td>0</td>\n",
       "      <td>NaN</td>\n",
       "      <td>NaN</td>\n",
       "    </tr>\n",
       "    <tr>\n",
       "      <th>5</th>\n",
       "      <td>therapeutic targets fingolimod fty720 involved...</td>\n",
       "      <td>0</td>\n",
       "      <td>NaN</td>\n",
       "      <td>NaN</td>\n",
       "    </tr>\n",
       "    <tr>\n",
       "      <th>2040</th>\n",
       "      <td>demyelination remyelination detected alternati...</td>\n",
       "      <td>1</td>\n",
       "      <td>NaN</td>\n",
       "      <td>NaN</td>\n",
       "    </tr>\n",
       "  </tbody>\n",
       "</table>\n",
       "</div>"
      ],
      "text/plain": [
       "                                               text_processed  relevant  \\\n",
       "article_id                                                                \n",
       "11468       parthenolide suppresses helper 17 alleviates e...         1   \n",
       "23015       immunosuppressive effects two probiotics lacto...         1   \n",
       "5101        diagnosis alzheimers disease related dementia ...         0   \n",
       "5           therapeutic targets fingolimod fty720 involved...         0   \n",
       "2040        demyelination remyelination detected alternati...         1   \n",
       "\n",
       "            predicted_label  confidence  \n",
       "article_id                               \n",
       "11468                   NaN         NaN  \n",
       "23015                   NaN         NaN  \n",
       "5101                    NaN         NaN  \n",
       "5                       NaN         NaN  \n",
       "2040                    NaN         NaN  "
      ]
     },
     "execution_count": 6,
     "metadata": {},
     "output_type": "execute_result"
    }
   ],
   "source": [
    "# First, let's import the dataset generated by the pseudo labelling process\n",
    "\n",
    "pseudo_labelled_df = pd.read_csv('../models/pseudo_labelling/pseudo_labels_bert.csv', index_col = 0)\n",
    "pseudo_labelled_df.index.name = 'article_id'\n",
    "pseudo_labelled_df.head()"
   ]
  },
  {
   "cell_type": "code",
   "execution_count": 7,
   "metadata": {},
   "outputs": [],
   "source": [
    "# let's keep the articles that:\n",
    "# don't have a predicted_label (ones with real labels) \n",
    "# or don't have predicted label confidence >= 0.95\n",
    "\n",
    "confidence_threshold = 0.95\n",
    "\n",
    "pseudo_labelled_df = pseudo_labelled_df[\n",
    "    (pseudo_labelled_df.predicted_label.isna()) | \n",
    "    (pseudo_labelled_df.confidence >= confidence_threshold)\n",
    "]"
   ]
  },
  {
   "cell_type": "code",
   "execution_count": 8,
   "metadata": {},
   "outputs": [],
   "source": [
    "train_df = pseudo_labelled_df"
   ]
  },
  {
   "cell_type": "code",
   "execution_count": 9,
   "metadata": {},
   "outputs": [
    {
     "data": {
      "text/html": [
       "<div>\n",
       "<style scoped>\n",
       "    .dataframe tbody tr th:only-of-type {\n",
       "        vertical-align: middle;\n",
       "    }\n",
       "\n",
       "    .dataframe tbody tr th {\n",
       "        vertical-align: top;\n",
       "    }\n",
       "\n",
       "    .dataframe thead th {\n",
       "        text-align: right;\n",
       "    }\n",
       "</style>\n",
       "<table border=\"1\" class=\"dataframe\">\n",
       "  <thead>\n",
       "    <tr style=\"text-align: right;\">\n",
       "      <th></th>\n",
       "      <th>text_processed</th>\n",
       "      <th>relevant</th>\n",
       "    </tr>\n",
       "    <tr>\n",
       "      <th>article_id</th>\n",
       "      <th></th>\n",
       "      <th></th>\n",
       "    </tr>\n",
       "  </thead>\n",
       "  <tbody>\n",
       "    <tr>\n",
       "      <th>11468</th>\n",
       "      <td>parthenolide suppresses helper 17 alleviates e...</td>\n",
       "      <td>1</td>\n",
       "    </tr>\n",
       "    <tr>\n",
       "      <th>23015</th>\n",
       "      <td>immunosuppressive effects two probiotics lacto...</td>\n",
       "      <td>1</td>\n",
       "    </tr>\n",
       "    <tr>\n",
       "      <th>5101</th>\n",
       "      <td>diagnosis alzheimers disease related dementia ...</td>\n",
       "      <td>0</td>\n",
       "    </tr>\n",
       "    <tr>\n",
       "      <th>5</th>\n",
       "      <td>therapeutic targets fingolimod fty720 involved...</td>\n",
       "      <td>0</td>\n",
       "    </tr>\n",
       "    <tr>\n",
       "      <th>2040</th>\n",
       "      <td>demyelination remyelination detected alternati...</td>\n",
       "      <td>1</td>\n",
       "    </tr>\n",
       "  </tbody>\n",
       "</table>\n",
       "</div>"
      ],
      "text/plain": [
       "                                               text_processed  relevant\n",
       "article_id                                                             \n",
       "11468       parthenolide suppresses helper 17 alleviates e...         1\n",
       "23015       immunosuppressive effects two probiotics lacto...         1\n",
       "5101        diagnosis alzheimers disease related dementia ...         0\n",
       "5           therapeutic targets fingolimod fty720 involved...         0\n",
       "2040        demyelination remyelination detected alternati...         1"
      ]
     },
     "execution_count": 9,
     "metadata": {},
     "output_type": "execute_result"
    }
   ],
   "source": [
    "# drop the columns predicte_label and confidence from train_df\n",
    "\n",
    "train_df = train_df.drop(columns=['predicted_label', 'confidence'])\n",
    "train_df.head()"
   ]
  },
  {
   "cell_type": "code",
   "execution_count": 10,
   "metadata": {},
   "outputs": [],
   "source": [
    "# fix index name of val_df and test_df to article_id\n",
    "val_df.index.name = 'article_id'\n",
    "test_df.index.name = 'article_id'"
   ]
  },
  {
   "cell_type": "markdown",
   "metadata": {},
   "source": [
    "### BERT"
   ]
  },
  {
   "cell_type": "code",
   "execution_count": 13,
   "metadata": {},
   "outputs": [
    {
     "name": "stderr",
     "output_type": "stream",
     "text": [
      "Some weights of the PyTorch model were not used when initializing the TF 2.0 model TFBertModel: ['cls.seq_relationship.weight', 'cls.predictions.decoder.weight', 'cls.predictions.transform.dense.bias', 'cls.predictions.transform.LayerNorm.weight', 'cls.predictions.bias', 'cls.predictions.transform.dense.weight', 'cls.predictions.transform.LayerNorm.bias', 'cls.predictions.decoder.bias', 'cls.seq_relationship.bias']\n",
      "- This IS expected if you are initializing TFBertModel from a PyTorch model trained on another task or with another architecture (e.g. initializing a TFBertForSequenceClassification model from a BertForPreTraining model).\n",
      "- This IS NOT expected if you are initializing TFBertModel from a PyTorch model that you expect to be exactly identical (e.g. initializing a TFBertForSequenceClassification model from a BertForSequenceClassification model).\n",
      "All the weights of TFBertModel were initialized from the PyTorch model.\n",
      "If your task is similar to the task the model of the checkpoint was trained on, you can already use TFBertModel for predictions without further training.\n"
     ]
    }
   ],
   "source": [
    "bert_classifier = BERT_Classifier(max_len=max_len,\n",
    "                                  bert_model_name='microsoft/BiomedNLP-BiomedBERT-base-uncased-abstract-fulltext',\n",
    "                                  best_learning_rate=2e-05,\n",
    "                                  best_dense_units=48,\n",
    "                                  best_freeze_weights=False,\n",
    "                                  metrics=['accuracy', Precision(name='precision'), Recall(name='recall'), AUC(name='auc')])\n",
    "\n",
    "\n",
    "# Encode the texts\n",
    "X_train_ids, X_train_masks = bert_classifier.encode_texts(train_df['text_processed'].values)\n",
    "X_val_ids, X_val_masks = bert_classifier.encode_texts(val_df['text_processed'].values)\n",
    "X_test_ids, X_test_masks = bert_classifier.encode_texts(test_df['text_processed'].values)\n",
    "\n",
    "# One-hot encode the labels\n",
    "y_train = to_categorical(train_df['relevant'], num_classes=2)\n",
    "y_val = to_categorical(val_df['relevant'], num_classes=2)\n",
    "y_test = to_categorical(test_df['relevant'], num_classes=2)\n"
   ]
  },
  {
   "cell_type": "code",
   "execution_count": 14,
   "metadata": {},
   "outputs": [
    {
     "name": "stdout",
     "output_type": "stream",
     "text": [
      "*** INITIALIZING MODEL TRAINING ***\n",
      "\n",
      "\n",
      "Epoch 1/10\n",
      "WARNING:tensorflow:Gradients do not exist for variables ['tf_bert_model_1/bert/pooler/dense/kernel:0', 'tf_bert_model_1/bert/pooler/dense/bias:0'] when minimizing the loss. If you're using `model.compile()`, did you forget to provide a `loss` argument?\n",
      "WARNING:tensorflow:Gradients do not exist for variables ['tf_bert_model_1/bert/pooler/dense/kernel:0', 'tf_bert_model_1/bert/pooler/dense/bias:0'] when minimizing the loss. If you're using `model.compile()`, did you forget to provide a `loss` argument?\n",
      "1288/1288 [==============================] - 311s 230ms/step - loss: 0.9787 - accuracy: 0.8947 - precision: 0.8947 - recall: 0.8947 - auc: 0.9631 - val_loss: 0.9104 - val_accuracy: 0.8979 - val_precision: 0.8979 - val_recall: 0.8979 - val_auc: 0.9537\n",
      "Epoch 2/10\n",
      "1288/1288 [==============================] - 294s 228ms/step - loss: 0.6104 - accuracy: 0.9441 - precision: 0.9441 - recall: 0.9441 - auc: 0.9871 - val_loss: 0.8086 - val_accuracy: 0.9031 - val_precision: 0.9031 - val_recall: 0.9031 - val_auc: 0.9493\n",
      "Epoch 3/10\n",
      "1288/1288 [==============================] - 294s 228ms/step - loss: 0.3855 - accuracy: 0.9678 - precision: 0.9678 - recall: 0.9678 - auc: 0.9936 - val_loss: 0.7092 - val_accuracy: 0.9031 - val_precision: 0.9031 - val_recall: 0.9031 - val_auc: 0.9444\n",
      "Epoch 4/10\n",
      "1288/1288 [==============================] - 295s 229ms/step - loss: 0.2397 - accuracy: 0.9804 - precision: 0.9804 - recall: 0.9804 - auc: 0.9970 - val_loss: 0.5794 - val_accuracy: 0.9084 - val_precision: 0.9084 - val_recall: 0.9084 - val_auc: 0.9440\n",
      "Epoch 5/10\n",
      "1288/1288 [==============================] - 297s 230ms/step - loss: 0.1519 - accuracy: 0.9878 - precision: 0.9878 - recall: 0.9878 - auc: 0.9980 - val_loss: 0.5890 - val_accuracy: 0.9058 - val_precision: 0.9058 - val_recall: 0.9058 - val_auc: 0.9450\n",
      "Epoch 6/10\n",
      "1288/1288 [==============================] - 295s 229ms/step - loss: 0.0996 - accuracy: 0.9910 - precision: 0.9910 - recall: 0.9910 - auc: 0.9985 - val_loss: 0.5798 - val_accuracy: 0.9005 - val_precision: 0.9005 - val_recall: 0.9005 - val_auc: 0.9300\n",
      "Epoch 7/10\n",
      "1288/1288 [==============================] - 296s 230ms/step - loss: 0.0739 - accuracy: 0.9911 - precision: 0.9911 - recall: 0.9911 - auc: 0.9984 - val_loss: 0.5622 - val_accuracy: 0.9005 - val_precision: 0.9005 - val_recall: 0.9005 - val_auc: 0.9325\n",
      "Epoch 8/10\n",
      "1288/1288 [==============================] - 296s 230ms/step - loss: 0.0524 - accuracy: 0.9932 - precision: 0.9932 - recall: 0.9932 - auc: 0.9987 - val_loss: 0.5248 - val_accuracy: 0.8953 - val_precision: 0.8953 - val_recall: 0.8953 - val_auc: 0.9290\n",
      "Epoch 9/10\n",
      "1288/1288 [==============================] - 295s 229ms/step - loss: 0.0400 - accuracy: 0.9941 - precision: 0.9941 - recall: 0.9941 - auc: 0.9989 - val_loss: 0.5796 - val_accuracy: 0.8979 - val_precision: 0.8979 - val_recall: 0.8979 - val_auc: 0.9194\n",
      "Epoch 10/10\n",
      "1288/1288 [==============================] - 295s 229ms/step - loss: 0.0350 - accuracy: 0.9941 - precision: 0.9941 - recall: 0.9941 - auc: 0.9990 - val_loss: 0.5302 - val_accuracy: 0.9084 - val_precision: 0.9084 - val_recall: 0.9084 - val_auc: 0.9259\n",
      "\n",
      "\n",
      "*** TRAINING COMPLETE ***\n",
      "\n",
      "\n",
      "*** PLOTTING TRAINING HISTORY ***\n",
      "\n",
      "\n"
     ]
    },
    {
     "data": {
      "image/png": "[encoded data removed]",
      "text/plain": [
       "<Figure size 800x500 with 2 Axes>"
      ]
     },
     "metadata": {},
     "output_type": "display_data"
    },
    {
     "name": "stdout",
     "output_type": "stream",
     "text": [
      "\n",
      "Final Training Loss: 0.0350\n",
      "Final Validation Loss: 0.5302\n",
      "\n",
      "Final Training Accuracy: 0.9941\n",
      "Final Validation Accuracy: 0.9084\n",
      "\n",
      "\n",
      "*** EVALUATING MODEL ON TEST SET ***\n",
      "\n",
      "\n",
      "12/12 [==============================] - 2s 140ms/step - loss: 0.6923 - accuracy: 0.8714 - precision: 0.8714 - recall: 0.8714 - auc: 0.9064\n",
      "{'loss': 0.6922516226768494, 'accuracy': 0.8713910579681396, 'precision': 0.8713910579681396, 'recall': 0.8713910579681396, 'auc': 0.9063935875892639}\n",
      "Test Accuracy: 0.8713910579681396\n",
      "Test Precision: 0.8713910579681396\n",
      "Test Recall: 0.8713910579681396\n",
      "Test Auc: 0.9063935875892639\n",
      "*** INITIALISING RESULTS TABLE ***\n"
     ]
    }
   ],
   "source": [
    "# Train, plot, and evaluate the model\n",
    "model_registry = bert_classifier.train_plot_and_evaluate(train_inputs=[X_train_ids, X_train_masks],\n",
    "                                        train_labels=y_train,\n",
    "                                        val_inputs=[X_val_ids, X_val_masks],\n",
    "                                        val_labels=y_val,\n",
    "                                        test_inputs=[X_test_ids, X_test_masks],\n",
    "                                        test_labels=y_test,\n",
    "                                        epochs=10,\n",
    "                                        model_description=\"BERT (Pubmed) with pseudo-labelling\",\n",
    "                                        metrics_plot=['loss', 'accuracy'],\n",
    "                                        metrics_eval=['accuracy', 'precision', 'recall', 'auc'])"
   ]
  },
  {
   "cell_type": "markdown",
   "metadata": {},
   "source": [
    "**About these results**\n",
    "\n",
    "As it can be seen, the results presented are slighly worse than the ones mentioned in the report. This variation can be justified by the fact that, here, we retrained and tested the pseudo labels and the model with a different, more recent dataset. \n",
    "Furthermore, one thing that was already mentioned in the report, but it's important to remember again, is the fact that this configuration for BERT model should be run with max_len = 400, in order for truncation not to happen. If access to cloud gpu services is possible, we highly recommend you to try to train the model again, but this time using max_len = 400 and see the results. "
   ]
  },
  {
   "cell_type": "markdown",
   "metadata": {},
   "source": [
    "**Note**: It's possible to save the entire model\n",
    "(including architecture, weights, and training configuration) \n",
    "by using the method we developed called save_model,\n",
    "and it's also possible to save model history too, using other method called save_history,\n",
    "however here we are just saving the weights, using the method save_weights."
   ]
  },
  {
   "cell_type": "code",
   "execution_count": 15,
   "metadata": {},
   "outputs": [
    {
     "name": "stdout",
     "output_type": "stream",
     "text": [
      "Weights saved at ../models/bert_pubmed_weights.h5.h5\n"
     ]
    }
   ],
   "source": [
    "# Save only the model weights in HDF5 format\n",
    "weights_save_path = \"../models/bert_pubmed_weights.h5\"\n",
    "bert_classifier.save_weights(weights_save_path)"
   ]
  },
  {
   "cell_type": "markdown",
   "metadata": {},
   "source": [
    "### LGBM with TFIDF"
   ]
  },
  {
   "cell_type": "code",
   "execution_count": 12,
   "metadata": {},
   "outputs": [
    {
     "name": "stdout",
     "output_type": "stream",
     "text": [
      "[LightGBM] [Info] Number of positive: 5931, number of negative: 14666\n",
      "[LightGBM] [Info] Auto-choosing col-wise multi-threading, the overhead of testing was 0.845914 seconds.\n",
      "You can set `force_col_wise=true` to remove the overhead.\n",
      "[LightGBM] [Info] Total Bins 502492\n",
      "[LightGBM] [Info] Number of data points in the train set: 20597, number of used features: 18591\n",
      "[LightGBM] [Info] [binary:BoostFromScore]: pavg=0.287955 -> initscore=-0.905339\n",
      "[LightGBM] [Info] Start training from score -0.905339\n",
      "Training completed.\n",
      "True labels: {0, 1}\n",
      "Predicted labels: {0, 1}\n"
     ]
    }
   ],
   "source": [
    "# Initialize the LSGM classifier (default parameters are the hyperparameters chosen by the tuning process)\n",
    "lgbm_classifier = LGBM_TFIDF_Classifier()\n",
    "\n",
    "# Train the model\n",
    "lgbm_classifier.train(train_df[\"text_processed\"], train_df[\"relevant\"])\n",
    "\n",
    "# Save the model and vectorizer\n",
    "#lgbm_classifier.save_model(\"../models/tfidf_vectorizer.joblib\", \"../models/lgbm_classifier.joblib\")\n",
    "\n",
    "# Evaluate the model\n",
    "results = lgbm_classifier.evaluate(test_df[\"text_processed\"], test_df[\"relevant\"])"
   ]
  },
  {
   "cell_type": "code",
   "execution_count": 39,
   "metadata": {},
   "outputs": [],
   "source": [
    "# Concat to the BERT results\n",
    "results_metrics = {k: v for k, v in results.items() if k in ['accuracy', 'precision', 'recall', 'roc_auc']}\n",
    "results_df_LGBM = pd.DataFrame(results_metrics, index=[0])\n",
    "results_df_LGBM.rename(columns={'roc_auc':'test_auc', 'accuracy':'test_accuracy', 'recall':'test_recall', 'precision':'test_precision'}, inplace=True)\n",
    "results_df_LGBM['model'] = 'LGBM with TF-IDF'\n",
    "results_df_LGBM['training_time'] = 30\n",
    "results_df_LGBM['n_epochs'] = None\n",
    "results_df_LGBM['avg_epoch_time'] = None\n",
    "model_registry = pd.concat([model_registry, results_df_LGBM])"
   ]
  },
  {
   "cell_type": "markdown",
   "metadata": {},
   "source": [
    "## 6. Show Model Performance Results"
   ]
  },
  {
   "cell_type": "markdown",
   "metadata": {},
   "source": [
    "For more details on the results of each model, check the training reports for deep learning models and the additional metrics available in the classifier scripts."
   ]
  },
  {
   "cell_type": "code",
   "execution_count": 40,
   "metadata": {},
   "outputs": [
    {
     "data": {
      "text/html": [
       "<div>\n",
       "<style scoped>\n",
       "    .dataframe tbody tr th:only-of-type {\n",
       "        vertical-align: middle;\n",
       "    }\n",
       "\n",
       "    .dataframe tbody tr th {\n",
       "        vertical-align: top;\n",
       "    }\n",
       "\n",
       "    .dataframe thead th {\n",
       "        text-align: right;\n",
       "    }\n",
       "</style>\n",
       "<table border=\"1\" class=\"dataframe\">\n",
       "  <thead>\n",
       "    <tr style=\"text-align: right;\">\n",
       "      <th></th>\n",
       "      <th>model</th>\n",
       "      <th>training_time</th>\n",
       "      <th>n_epochs</th>\n",
       "      <th>avg_epoch_time</th>\n",
       "      <th>test_accuracy</th>\n",
       "      <th>test_precision</th>\n",
       "      <th>test_recall</th>\n",
       "      <th>test_auc</th>\n",
       "    </tr>\n",
       "  </thead>\n",
       "  <tbody>\n",
       "    <tr>\n",
       "      <th>0</th>\n",
       "      <td>BERT (Pubmed) with pseudo-labelling</td>\n",
       "      <td>2967.967363</td>\n",
       "      <td>10</td>\n",
       "      <td>296.796736</td>\n",
       "      <td>0.871391</td>\n",
       "      <td>0.871391</td>\n",
       "      <td>0.871391</td>\n",
       "      <td>0.906394</td>\n",
       "    </tr>\n",
       "    <tr>\n",
       "      <th>0</th>\n",
       "      <td>LGBM with TF-IDF</td>\n",
       "      <td>30.000000</td>\n",
       "      <td>None</td>\n",
       "      <td>NaN</td>\n",
       "      <td>0.892388</td>\n",
       "      <td>0.892080</td>\n",
       "      <td>0.892388</td>\n",
       "      <td>0.883573</td>\n",
       "    </tr>\n",
       "  </tbody>\n",
       "</table>\n",
       "</div>"
      ],
      "text/plain": [
       "                                 model  training_time n_epochs  \\\n",
       "0  BERT (Pubmed) with pseudo-labelling    2967.967363       10   \n",
       "0                     LGBM with TF-IDF      30.000000     None   \n",
       "\n",
       "   avg_epoch_time  test_accuracy  test_precision  test_recall  test_auc  \n",
       "0      296.796736       0.871391        0.871391     0.871391  0.906394  \n",
       "0             NaN       0.892388        0.892080     0.892388  0.883573  "
      ]
     },
     "metadata": {},
     "output_type": "display_data"
    }
   ],
   "source": [
    "display(model_registry)"
   ]
  }
 ],
 "metadata": {
  "kernelspec": {
   "display_name": "gregoryai",
   "language": "python",
   "name": "python3"
  },
  "language_info": {
   "codemirror_mode": {
    "name": "ipython",
    "version": 3
   },
   "file_extension": ".py",
   "mimetype": "text/x-python",
   "name": "python",
   "nbconvert_exporter": "python",
   "pygments_lexer": "ipython3",
   "version": "3.10.14"
  }
 },
 "nbformat": 4,
 "nbformat_minor": 2
}
