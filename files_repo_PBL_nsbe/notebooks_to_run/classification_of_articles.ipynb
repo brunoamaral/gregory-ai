{
 "cells": [
  {
   "cell_type": "markdown",
   "metadata": {},
   "source": [
    "# **Classification Notebook (NovaSBE X GregoryAI)**"
   ]
  },
  {
   "cell_type": "markdown",
   "metadata": {},
   "source": [
    "![Description of the image](../images/classify_pipeline_diagram.png)"
   ]
  },
  {
   "cell_type": "markdown",
   "metadata": {},
   "source": [
    "## 1. Import libraries"
   ]
  },
  {
   "cell_type": "code",
   "execution_count": 1,
   "metadata": {},
   "outputs": [],
   "source": [
    "import os\n",
    "import sys\n",
    "import pandas as pd\n",
    "import numpy as np\n",
    "from datetime import datetime\n",
    "import warnings\n",
    "import gdown\n",
    "\n",
    "# Add the parent directory of code_utils to the Python path\n",
    "sys.path.append(os.path.abspath(os.path.join('..')))\n",
    "\n",
    "# Suppress warnings\n",
    "warnings.filterwarnings(\"ignore\")\n",
    "\n",
    "from code_utils.text_utils import *  # Import everything from text_utils.py\n",
    "from code_utils.model_utils.LSTM_algorithm_utils import *  \n",
    "from code_utils.model_utils.BERT_algorithm_utils import *  \n",
    "from code_utils.model_utils.LGBM_algorithm_utils import *  \n",
    "from code_utils.model_utils.classify_model_choose import *\n",
    "from code_utils.download_utils import * "
   ]
  },
  {
   "cell_type": "markdown",
   "metadata": {},
   "source": [
    "## 2. Download articles"
   ]
  },
  {
   "cell_type": "code",
   "execution_count": 3,
   "metadata": {},
   "outputs": [
    {
     "name": "stdout",
     "output_type": "stream",
     "text": [
      "DataFrame saved to data\\2024-06-10\\train_articles.csv\n",
      "DataFrame saved to data\\2024-06-10\\inference_articles.csv\n"
     ]
    }
   ],
   "source": [
    "# load the previous data\n",
    "old_articles_path = '..\\\\data\\\\articles_08-06-2024_14h13m04s.csv'\n",
    "url = 'https://gregory-ms.com/developers/articles.zip'\n",
    "train_df, inference_df = download_and_extract_zip(url, old_articles_path, 'max')"
   ]
  },
  {
   "cell_type": "markdown",
   "metadata": {},
   "source": [
    "The above code, using the downloads function, checks for new article_ids (comparing with an older version of dataset) and then returns two datasets (also saving them as csv files in the data folder)\n",
    "\n",
    "- train_df - the complete dataset, to be used in training\n",
    "- inference_df - the new articles, to be used in classification"
   ]
  },
  {
   "cell_type": "code",
   "execution_count": 4,
   "metadata": {},
   "outputs": [
    {
     "data": {
      "text/plain": [
       "(0, 15)"
      ]
     },
     "execution_count": 4,
     "metadata": {},
     "output_type": "execute_result"
    }
   ],
   "source": [
    "inference_df.shape"
   ]
  },
  {
   "cell_type": "markdown",
   "metadata": {},
   "source": [
    "In this case, inference_df has 0 rows, because it's has been compared to the latest version, so there are no new articles yet, at the time of this test. In the cells below, to test and show how does it work, we used to classify a file previously downloaded, articles_08_06_2024_14h13m04.csv."
   ]
  },
  {
   "cell_type": "markdown",
   "metadata": {},
   "source": [
    "## 2. Load articles, clean and pre-process articles"
   ]
  },
  {
   "cell_type": "markdown",
   "metadata": {},
   "source": [
    "**TEST CELL**"
   ]
  },
  {
   "cell_type": "markdown",
   "metadata": {},
   "source": [
    "This cell is used just to test the code, the user can later delete this cell and use the one below."
   ]
  },
  {
   "cell_type": "code",
   "execution_count": 8,
   "metadata": {},
   "outputs": [
    {
     "data": {
      "text/html": [
       "<div>\n",
       "<style scoped>\n",
       "    .dataframe tbody tr th:only-of-type {\n",
       "        vertical-align: middle;\n",
       "    }\n",
       "\n",
       "    .dataframe tbody tr th {\n",
       "        vertical-align: top;\n",
       "    }\n",
       "\n",
       "    .dataframe thead th {\n",
       "        text-align: right;\n",
       "    }\n",
       "</style>\n",
       "<table border=\"1\" class=\"dataframe\">\n",
       "  <thead>\n",
       "    <tr style=\"text-align: right;\">\n",
       "      <th></th>\n",
       "      <th>text_processed</th>\n",
       "      <th>relevant</th>\n",
       "    </tr>\n",
       "    <tr>\n",
       "      <th>article_id</th>\n",
       "      <th></th>\n",
       "      <th></th>\n",
       "    </tr>\n",
       "  </thead>\n",
       "  <tbody>\n",
       "    <tr>\n",
       "      <th>1</th>\n",
       "      <td>covid19 hhv6 mog antibody perfect storm j neur...</td>\n",
       "      <td>0</td>\n",
       "    </tr>\n",
       "    <tr>\n",
       "      <th>2</th>\n",
       "      <td>migraine associated brain anatomical alteratio...</td>\n",
       "      <td>0</td>\n",
       "    </tr>\n",
       "    <tr>\n",
       "      <th>3</th>\n",
       "      <td>patient satisfaction quality counseling provid...</td>\n",
       "      <td>0</td>\n",
       "    </tr>\n",
       "    <tr>\n",
       "      <th>4</th>\n",
       "      <td>rare case spinal neurosarcoidosis concomitant ...</td>\n",
       "      <td>unlabeled</td>\n",
       "    </tr>\n",
       "    <tr>\n",
       "      <th>5</th>\n",
       "      <td>evaluation urinary tract infection following c...</td>\n",
       "      <td>0</td>\n",
       "    </tr>\n",
       "  </tbody>\n",
       "</table>\n",
       "</div>"
      ],
      "text/plain": [
       "                                               text_processed   relevant\n",
       "article_id                                                              \n",
       "1           covid19 hhv6 mog antibody perfect storm j neur...          0\n",
       "2           migraine associated brain anatomical alteratio...          0\n",
       "3           patient satisfaction quality counseling provid...          0\n",
       "4           rare case spinal neurosarcoidosis concomitant ...  unlabeled\n",
       "5           evaluation urinary tract infection following c...          0"
      ]
     },
     "execution_count": 8,
     "metadata": {},
     "output_type": "execute_result"
    }
   ],
   "source": [
    "articles_clean_df = load_and_format_dataset('../data/articles_08-06-2024_14h13m04s.csv', text_cleaning_pd_series)\n",
    "articles_clean_df.head()"
   ]
  },
  {
   "cell_type": "code",
   "execution_count": null,
   "metadata": {},
   "outputs": [],
   "source": [
    "dataset_path = os.path.join('../data/2024-06-10', # choose the day folder intended to use \n",
    "                            'inference_articles.csv')\n",
    "\n",
    "articles_clean_df = load_and_format_dataset(dataset_path, text_cleaning_pd_series)\n",
    "\n",
    "articles_clean_df.head()"
   ]
  },
  {
   "cell_type": "code",
   "execution_count": 9,
   "metadata": {},
   "outputs": [
    {
     "data": {
      "text/plain": [
       "relevant\n",
       "unlabeled    22050\n",
       "0             1532\n",
       "1             1008\n",
       "Name: count, dtype: int64"
      ]
     },
     "execution_count": 9,
     "metadata": {},
     "output_type": "execute_result"
    }
   ],
   "source": [
    "articles_clean_df.relevant.value_counts()"
   ]
  },
  {
   "cell_type": "markdown",
   "metadata": {},
   "source": [
    "**Filter to keep Unlabelled Data**"
   ]
  },
  {
   "cell_type": "code",
   "execution_count": 10,
   "metadata": {},
   "outputs": [],
   "source": [
    "unlabeled_articles = articles_clean_df[articles_clean_df['relevant'] == 'unlabeled']\n",
    "unlabeled_texts = unlabeled_articles['text_processed']\n",
    "article_ids = unlabeled_articles.index"
   ]
  },
  {
   "cell_type": "markdown",
   "metadata": {},
   "source": [
    "## 4. Classify Articles (predict Labels for Unlabeled Articles)"
   ]
  },
  {
   "cell_type": "markdown",
   "metadata": {},
   "source": [
    "In the cell bellow you will find the three alternatives models to run the classification. Choose the model you want by indexing its name in the list models_available.\n",
    "\n",
    "Note that the model weights we trained for BERT model have to be downloaded from google drive since it's size (near 400MB) exceeds the github repository capacity."
   ]
  },
  {
   "cell_type": "code",
   "execution_count": 15,
   "metadata": {},
   "outputs": [
    {
     "name": "stderr",
     "output_type": "stream",
     "text": [
      "Downloading...\n",
      "From (original): https://drive.google.com/uc?id=1c1DTtuWKIJnlXaca_w8NPN3Qa5TnbyqX\n",
      "From (redirected): https://drive.google.com/uc?id=1c1DTtuWKIJnlXaca_w8NPN3Qa5TnbyqX&confirm=t&uuid=03e07ca2-8253-4166-ba79-1dbbff15152c\n",
      "To: c:\\Users\\lnpg1\\Desktop\\NOVASBE\\GREGORY_AI\\Pi\\GregoryAIxNovaSBE\\models\\Pubmed_BERT128_model_weights.h5\n",
      "100%|██████████| 438M/438M [00:09<00:00, 46.9MB/s] \n"
     ]
    },
    {
     "data": {
      "text/plain": [
       "'../models/Pubmed_BERT128_model_weights.h5'"
      ]
     },
     "execution_count": 15,
     "metadata": {},
     "output_type": "execute_result"
    }
   ],
   "source": [
    "# This code is to download the BERT model weights from the Google Drive\n",
    "\n",
    "# URL of the file on Google Drive\n",
    "google_drive_url = 'https://drive.google.com/uc?id=1c1DTtuWKIJnlXaca_w8NPN3Qa5TnbyqX'\n",
    "\n",
    "# Destination directory and file name\n",
    "model_path_bert_classifier = '../models/Pubmed_BERT128_model_weights.h5'\n",
    "\n",
    "# Check if the models directory exists, if not, create it\n",
    "if not os.path.exists('../models'):\n",
    "    os.makedirs('../models')\n",
    "\n",
    "# Download the file from Google Drive\n",
    "gdown.download(google_drive_url, model_path_bert_classifier, quiet=False)"
   ]
  },
  {
   "cell_type": "code",
   "execution_count": 16,
   "metadata": {},
   "outputs": [],
   "source": [
    "# change the weight file according to the model you want to use (see the models folder)\n",
    "model_path_lgbm_classifier = '../models/lgbm_classifier.joblib'\n",
    "model_path_lstm_classifier = '../models/model_bidir_1_no_reg.keras'\n",
    "model_path_bert_classifier = '../models/Pubmed_BERT128_model_weights.h5'\n",
    "\n",
    "# change the vectorizer file according to the model you want to use\n",
    "vectorizer_path = '../models/tfidf_vectorizer.joblib'"
   ]
  },
  {
   "cell_type": "code",
   "execution_count": 17,
   "metadata": {},
   "outputs": [
    {
     "name": "stdout",
     "output_type": "stream",
     "text": [
      "Model loaded: vectorizer from ../models/tfidf_vectorizer.joblib, classifier from ../models/lgbm_classifier.joblib\n"
     ]
    },
    {
     "name": "stderr",
     "output_type": "stream",
     "text": [
      "  File \"c:\\Users\\lnpg1\\anaconda3\\envs\\gregoryai\\lib\\site-packages\\joblib\\externals\\loky\\backend\\context.py\", line 217, in _count_physical_cores\n",
      "    raise ValueError(\n"
     ]
    }
   ],
   "source": [
    "# List of available models\n",
    "models_available = ['LSTM_Classifier', 'BERT_Classifier', 'LGBM_TFIDF_Classifier']\n",
    "model_paths = [model_path_lstm_classifier, model_path_bert_classifier, model_path_lgbm_classifier]\n",
    "\n",
    "# Choose the model and its path\n",
    "model_name = models_available[2]  # Choose here the model you want to use\n",
    "model_path = model_path_lgbm_classifier[2]\n",
    "\n",
    "# Predict labels for the unlabeled articles\n",
    "predicted_labels_lgbm = predict_with_model(model_name, model_path_lgbm_classifier, vectorizer_path, unlabeled_texts)"
   ]
  },
  {
   "cell_type": "markdown",
   "metadata": {},
   "source": [
    "## 5. Store the results"
   ]
  },
  {
   "cell_type": "code",
   "execution_count": null,
   "metadata": {},
   "outputs": [],
   "source": [
    "# Create a new DataFrame with article IDs and predicted labels\n",
    "results_df = pd.DataFrame({\n",
    "    'article_id': article_ids,\n",
    "    f'{model_name}_pred': predicted_labels_lgbm\n",
    "})\n",
    "\n",
    "# Reset the index to ensure article_id is a column and not an index\n",
    "results_df.reset_index(drop=True, inplace=True)"
   ]
  },
  {
   "cell_type": "code",
   "execution_count": null,
   "metadata": {},
   "outputs": [
    {
     "data": {
      "text/html": [
       "<div>\n",
       "<style scoped>\n",
       "    .dataframe tbody tr th:only-of-type {\n",
       "        vertical-align: middle;\n",
       "    }\n",
       "\n",
       "    .dataframe tbody tr th {\n",
       "        vertical-align: top;\n",
       "    }\n",
       "\n",
       "    .dataframe thead th {\n",
       "        text-align: right;\n",
       "    }\n",
       "</style>\n",
       "<table border=\"1\" class=\"dataframe\">\n",
       "  <thead>\n",
       "    <tr style=\"text-align: right;\">\n",
       "      <th></th>\n",
       "      <th>Unnamed: 0</th>\n",
       "      <th>article_id</th>\n",
       "      <th>title</th>\n",
       "      <th>summary</th>\n",
       "      <th>link</th>\n",
       "      <th>published_date</th>\n",
       "      <th>discovery_date</th>\n",
       "      <th>source</th>\n",
       "      <th>publisher</th>\n",
       "      <th>container_title</th>\n",
       "      <th>authors</th>\n",
       "      <th>relevant</th>\n",
       "      <th>doi</th>\n",
       "      <th>access</th>\n",
       "      <th>takeaways</th>\n",
       "      <th>categories</th>\n",
       "      <th>LGBM_TFIDF_Classifier_pred</th>\n",
       "    </tr>\n",
       "  </thead>\n",
       "  <tbody>\n",
       "    <tr>\n",
       "      <th>0</th>\n",
       "      <td>0</td>\n",
       "      <td>1</td>\n",
       "      <td>COVID-19, HHV6 and MOG antibody: A perfect storm</td>\n",
       "      <td>J Neuroimmunol. 2021 Feb 12;353:577521. doi: 1...</td>\n",
       "      <td>https://pubmed.ncbi.nlm.nih.gov/33607505/?fc=2...</td>\n",
       "      <td>2021-04-14</td>\n",
       "      <td>2021-02-23</td>\n",
       "      <td>8.0</td>\n",
       "      <td>Elsevier BV</td>\n",
       "      <td>Journal of Neuroimmunology</td>\n",
       "      <td>Ali Fadhil, Ankita Prasad, Anthony Zampino, Fa...</td>\n",
       "      <td>False</td>\n",
       "      <td>10.1016/j.jneuroim.2021.577521</td>\n",
       "      <td>open</td>\n",
       "      <td>First case of HHV6 reactivation in central ne...</td>\n",
       "      <td>NaN</td>\n",
       "      <td>NaN</td>\n",
       "    </tr>\n",
       "    <tr>\n",
       "      <th>1</th>\n",
       "      <td>1</td>\n",
       "      <td>2</td>\n",
       "      <td>Is Migraine Associated to Brain Anatomical Alt...</td>\n",
       "      <td>Brain Topogr. 2021 Feb 19. doi: 10.1007/s10548...</td>\n",
       "      <td>https://pubmed.ncbi.nlm.nih.gov/33606142/?fc=2...</td>\n",
       "      <td>2021-01-05</td>\n",
       "      <td>2021-02-23</td>\n",
       "      <td>8.0</td>\n",
       "      <td>Springer Science and Business Media LLC</td>\n",
       "      <td>Brain Topography</td>\n",
       "      <td>Anne Caclin, Aurélie Bidet-Caulet, David Meuni...</td>\n",
       "      <td>False</td>\n",
       "      <td>10.1007/s10548-021-00824-6</td>\n",
       "      <td>open</td>\n",
       "      <td>Growing number of studies investigate brain a...</td>\n",
       "      <td>NaN</td>\n",
       "      <td>NaN</td>\n",
       "    </tr>\n",
       "    <tr>\n",
       "      <th>2</th>\n",
       "      <td>2</td>\n",
       "      <td>3</td>\n",
       "      <td>Patient Satisfaction With the Quality of Couns...</td>\n",
       "      <td>J Neurosci Nurs. 2021 Feb 17. doi: 10.1097/JNN...</td>\n",
       "      <td>https://pubmed.ncbi.nlm.nih.gov/33605649/?fc=2...</td>\n",
       "      <td>2021-03-31</td>\n",
       "      <td>2021-02-23</td>\n",
       "      <td>8.0</td>\n",
       "      <td>Ovid Technologies (Wolters Kluwer Health)</td>\n",
       "      <td>Journal of Neuroscience Nursing</td>\n",
       "      <td>Daniela Händler-Schuster, Diana Zanolari, Gabr...</td>\n",
       "      <td>False</td>\n",
       "      <td>10.1097/JNN.0000000000000578</td>\n",
       "      <td>restricted</td>\n",
       "      <td>The challenges in dealing with multiple scler...</td>\n",
       "      <td>NaN</td>\n",
       "      <td>NaN</td>\n",
       "    </tr>\n",
       "    <tr>\n",
       "      <th>3</th>\n",
       "      <td>3</td>\n",
       "      <td>4</td>\n",
       "      <td>Rare Case of Spinal Neurosarcoidosis with Conc...</td>\n",
       "      <td>Case Rep Neurol Med. 2021 Jan 28;2021:5952724....</td>\n",
       "      <td>https://pubmed.ncbi.nlm.nih.gov/33604089/?fc=2...</td>\n",
       "      <td>2021-01-28</td>\n",
       "      <td>2021-02-23</td>\n",
       "      <td>8.0</td>\n",
       "      <td>Hindawi Limited</td>\n",
       "      <td>Case Reports in Neurological Medicine</td>\n",
       "      <td>Achraf Makki, Maria Khoueiry, Nesreen Jaafar, ...</td>\n",
       "      <td>NaN</td>\n",
       "      <td>10.1155/2021/5952724</td>\n",
       "      <td>open</td>\n",
       "      <td>Spinal neurosarcoidosis is a rare disease tha...</td>\n",
       "      <td>NaN</td>\n",
       "      <td>0.0</td>\n",
       "    </tr>\n",
       "    <tr>\n",
       "      <th>4</th>\n",
       "      <td>4</td>\n",
       "      <td>5</td>\n",
       "      <td>Evaluation of Urinary Tract Infection followin...</td>\n",
       "      <td>Can J Infect Dis Med Microbiol. 2021 Jan 31;20...</td>\n",
       "      <td>https://pubmed.ncbi.nlm.nih.gov/33603936/?fc=2...</td>\n",
       "      <td>2021-01-31</td>\n",
       "      <td>2021-02-23</td>\n",
       "      <td>8.0</td>\n",
       "      <td>Hindawi Limited</td>\n",
       "      <td>Canadian Journal of Infectious Diseases and Me...</td>\n",
       "      <td>Aliyeh Bazi, Monireh Ghazaeian, Narjes Hendoie...</td>\n",
       "      <td>False</td>\n",
       "      <td>10.1155/2021/6616763</td>\n",
       "      <td>open</td>\n",
       "      <td>Double-blind randomized clinical trial was co...</td>\n",
       "      <td>NaN</td>\n",
       "      <td>NaN</td>\n",
       "    </tr>\n",
       "  </tbody>\n",
       "</table>\n",
       "</div>"
      ],
      "text/plain": [
       "   Unnamed: 0  article_id                                              title  \\\n",
       "0           0           1   COVID-19, HHV6 and MOG antibody: A perfect storm   \n",
       "1           1           2  Is Migraine Associated to Brain Anatomical Alt...   \n",
       "2           2           3  Patient Satisfaction With the Quality of Couns...   \n",
       "3           3           4  Rare Case of Spinal Neurosarcoidosis with Conc...   \n",
       "4           4           5  Evaluation of Urinary Tract Infection followin...   \n",
       "\n",
       "                                             summary  \\\n",
       "0  J Neuroimmunol. 2021 Feb 12;353:577521. doi: 1...   \n",
       "1  Brain Topogr. 2021 Feb 19. doi: 10.1007/s10548...   \n",
       "2  J Neurosci Nurs. 2021 Feb 17. doi: 10.1097/JNN...   \n",
       "3  Case Rep Neurol Med. 2021 Jan 28;2021:5952724....   \n",
       "4  Can J Infect Dis Med Microbiol. 2021 Jan 31;20...   \n",
       "\n",
       "                                                link published_date  \\\n",
       "0  https://pubmed.ncbi.nlm.nih.gov/33607505/?fc=2...     2021-04-14   \n",
       "1  https://pubmed.ncbi.nlm.nih.gov/33606142/?fc=2...     2021-01-05   \n",
       "2  https://pubmed.ncbi.nlm.nih.gov/33605649/?fc=2...     2021-03-31   \n",
       "3  https://pubmed.ncbi.nlm.nih.gov/33604089/?fc=2...     2021-01-28   \n",
       "4  https://pubmed.ncbi.nlm.nih.gov/33603936/?fc=2...     2021-01-31   \n",
       "\n",
       "  discovery_date  source                                  publisher  \\\n",
       "0     2021-02-23     8.0                                Elsevier BV   \n",
       "1     2021-02-23     8.0    Springer Science and Business Media LLC   \n",
       "2     2021-02-23     8.0  Ovid Technologies (Wolters Kluwer Health)   \n",
       "3     2021-02-23     8.0                            Hindawi Limited   \n",
       "4     2021-02-23     8.0                            Hindawi Limited   \n",
       "\n",
       "                                     container_title  \\\n",
       "0                         Journal of Neuroimmunology   \n",
       "1                                   Brain Topography   \n",
       "2                    Journal of Neuroscience Nursing   \n",
       "3              Case Reports in Neurological Medicine   \n",
       "4  Canadian Journal of Infectious Diseases and Me...   \n",
       "\n",
       "                                             authors relevant  \\\n",
       "0  Ali Fadhil, Ankita Prasad, Anthony Zampino, Fa...    False   \n",
       "1  Anne Caclin, Aurélie Bidet-Caulet, David Meuni...    False   \n",
       "2  Daniela Händler-Schuster, Diana Zanolari, Gabr...    False   \n",
       "3  Achraf Makki, Maria Khoueiry, Nesreen Jaafar, ...      NaN   \n",
       "4  Aliyeh Bazi, Monireh Ghazaeian, Narjes Hendoie...    False   \n",
       "\n",
       "                              doi      access  \\\n",
       "0  10.1016/j.jneuroim.2021.577521        open   \n",
       "1      10.1007/s10548-021-00824-6        open   \n",
       "2    10.1097/JNN.0000000000000578  restricted   \n",
       "3            10.1155/2021/5952724        open   \n",
       "4            10.1155/2021/6616763        open   \n",
       "\n",
       "                                           takeaways categories  \\\n",
       "0   First case of HHV6 reactivation in central ne...        NaN   \n",
       "1   Growing number of studies investigate brain a...        NaN   \n",
       "2   The challenges in dealing with multiple scler...        NaN   \n",
       "3   Spinal neurosarcoidosis is a rare disease tha...        NaN   \n",
       "4   Double-blind randomized clinical trial was co...        NaN   \n",
       "\n",
       "   LGBM_TFIDF_Classifier_pred  \n",
       "0                         NaN  \n",
       "1                         NaN  \n",
       "2                         NaN  \n",
       "3                         0.0  \n",
       "4                         NaN  "
      ]
     },
     "execution_count": 7,
     "metadata": {},
     "output_type": "execute_result"
    }
   ],
   "source": [
    "# Join the results with the original DataFrame\n",
    "\n",
    "df = pd.read_csv('../data/articles_08-06-2024_14h13m04s.csv')\n",
    "\n",
    "# df = pd.read_csv(dataset_path)\n",
    "\n",
    "new_articles_df = df.merge(results_df, how='left', left_on='article_id', right_on='article_id')\n",
    "\n",
    "new_articles_df.head()"
   ]
  },
  {
   "cell_type": "code",
   "execution_count": null,
   "metadata": {},
   "outputs": [],
   "source": [
    "# Export the new DataFrame to a CSV file into the folder articles_classification,\n",
    "# with name formating as follows: articles_predictions_{model_name}_{current_date}_{current_time}.csv\n",
    "\n",
    "def get_current_date_time():\n",
    "    now = datetime.now()\n",
    "    current_date = now.strftime('%Y-%m-%d')\n",
    "    current_time = now.strftime('%H-%M-%S')\n",
    "    return current_date, current_time\n",
    "\n",
    "current_date = get_current_date_time()[0]\n",
    "current_time = get_current_date_time()[1]\n",
    "\n",
    "output_filename = f'articles_predictions_{model_name}_{current_date}_{current_time}.csv'\n",
    "\n",
    "output_path = os.path.join('../articles_classification', output_filename)\n",
    "\n",
    "new_articles_df.to_csv(output_path, index=False)"
   ]
  }
 ],
 "metadata": {
  "kernelspec": {
   "display_name": "gregoryai",
   "language": "python",
   "name": "python3"
  },
  "language_info": {
   "codemirror_mode": {
    "name": "ipython",
    "version": 3
   },
   "file_extension": ".py",
   "mimetype": "text/x-python",
   "name": "python",
   "nbconvert_exporter": "python",
   "pygments_lexer": "ipython3",
   "version": "3.10.14"
  }
 },
 "nbformat": 4,
 "nbformat_minor": 2
}
