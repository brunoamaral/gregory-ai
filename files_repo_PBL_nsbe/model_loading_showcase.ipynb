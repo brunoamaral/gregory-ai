{
 "cells": [
  {
   "cell_type": "code",
   "execution_count": 1,
   "metadata": {},
   "outputs": [
    {
     "name": "stderr",
     "output_type": "stream",
     "text": [
      "2024-07-18 18:56:33.925382: I tensorflow/core/platform/cpu_feature_guard.cc:210] This TensorFlow binary is optimized to use available CPU instructions in performance-critical operations.\n",
      "To enable the following instructions: AVX2 FMA, in other operations, rebuild TensorFlow with the appropriate compiler flags.\n"
     ]
    }
   ],
   "source": [
    "\n",
    "import re\n",
    "import string\n",
    "\n",
    "import tensorflow as tf\n",
    "import pandas as pd"
   ]
  },
  {
   "cell_type": "code",
   "execution_count": 2,
   "metadata": {},
   "outputs": [],
   "source": [
    "train = pd.read_csv('data/pseudo_final/pseudo_bert_train.csv')"
   ]
  },
  {
   "cell_type": "code",
   "execution_count": 4,
   "metadata": {},
   "outputs": [],
   "source": [
    "from code_utils.model_utils.LGBM_algorithm_utils import LGBM_TFIDF_Classifier"
   ]
  },
  {
   "cell_type": "code",
   "execution_count": 3,
   "metadata": {},
   "outputs": [],
   "source": [
    "model = LGBM_TFIDF_Classifier()"
   ]
  },
  {
   "cell_type": "code",
   "execution_count": 5,
   "metadata": {},
   "outputs": [
    {
     "name": "stdout",
     "output_type": "stream",
     "text": [
      "Model loaded: vectorizer from ../../deep_learning/tfidf_vectorizer.joblib, classifier from ../../deep_learning/lgbm_classifier.joblib\n"
     ]
    }
   ],
   "source": [
    "model.load_model(classifier_path='models/lgbm_classifier.joblib', vectorizer_path='models/tfidf_vectorizer.joblib')"
   ]
  },
  {
   "cell_type": "code",
   "execution_count": 6,
   "metadata": {},
   "outputs": [],
   "source": [
    "from code_utils.model_utils.LSTM_algorithm_utils import LSTM_Classifier, get_lstm_vectoriser"
   ]
  },
  {
   "cell_type": "code",
   "execution_count": null,
   "metadata": {},
   "outputs": [],
   "source": [
    "\n",
    "vocab_size = 21000\n",
    "\n",
    "embedding_dim = 200\n",
    "\n",
    "def custom_standardization(input_text):\n",
    "    \"\"\"Lowercase and remove punctuation from the text.\"\"\"\n",
    "    lowercase_text = tf.strings.lower(input_text)\n",
    "    cleaned_text = tf.strings.regex_replace(lowercase_text, '[%s]' % re.escape(string.punctuation), '')\n",
    "    return cleaned_text\n",
    "\n",
    "# Create the TextVectorization layer\n",
    "vectorize_layer = tf.keras.layers.TextVectorization(\n",
    "    max_tokens=vocab_size,\n",
    "    output_mode='int',\n",
    "    output_sequence_length=embedding_dim,\n",
    "    standardize=custom_standardization\n",
    ")\n",
    "\n",
    "# Assuming `texts` is a list or dataset of your text data\n",
    "vectorize_layer.adapt(train['text_processed'])"
   ]
  },
  {
   "cell_type": "code",
   "execution_count": 7,
   "metadata": {},
   "outputs": [],
   "source": [
    "@tf.keras.utils.register_keras_serializable()\n",
    "def custom_standardization(input_text):\n",
    "    \"\"\"Lowercase and remove punctuation from the text.\"\"\"\n",
    "    lowercase_text = tf.strings.lower(input_text)\n",
    "    cleaned_text = tf.strings.regex_replace(lowercase_text, '[%s]' % re.escape(string.punctuation), '')\n",
    "    return cleaned_text\n",
    "\n",
    "vectorize_layer = get_lstm_vectoriser(train_data_path='/Users/kuba/Desktop/PBL.nosync/deep_learning/data/pseudo_bert_train.csv', function=custom_standardization)\n",
    "\n",
    "lstm_model = LSTM_Classifier(vectorize_layer=vectorize_layer)"
   ]
  },
  {
   "cell_type": "code",
   "execution_count": 8,
   "metadata": {},
   "outputs": [
    {
     "name": "stdout",
     "output_type": "stream",
     "text": [
      "Model loaded from models/model_bidir_1_no_reg.keras\n"
     ]
    }
   ],
   "source": [
    "lstm_model.load_model(model_path='models/model_bidir_1_no_reg.keras')"
   ]
  }
 ],
 "metadata": {
  "kernelspec": {
   "display_name": "pbl_DL",
   "language": "python",
   "name": "python3"
  },
  "language_info": {
   "codemirror_mode": {
    "name": "ipython",
    "version": 3
   },
   "file_extension": ".py",
   "mimetype": "text/x-python",
   "name": "python",
   "nbconvert_exporter": "python",
   "pygments_lexer": "ipython3",
   "version": "3.11.9"
  }
 },
 "nbformat": 4,
 "nbformat_minor": 2
}
