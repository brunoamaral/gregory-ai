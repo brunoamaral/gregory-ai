{
 "cells": [
  {
   "cell_type": "markdown",
   "metadata": {},
   "source": [
    "# Apple Health Mobility Report\n",
    "\n",
    "Our goal is to build a report with the Apple Health data that can be used by Physical Therapists to assess the progress of their patients.\n",
    "\n",
    "To do this we will use the full export of the Apple Health App and [convert it to a Pandas Dataframe using Milind Ganjoo's Apple Health Exporter code](https://github.com/mganjoo/apple-health-exporter).\n",
    "\n",
    "## Getting the user data to display\n",
    "\n",
    "1. Export Apple Health data from within the Health app.\n",
    "\n",
    "![click on \"user\" icon and then on \"export health data\"](images/exporting.png)"
   ]
  },
  {
   "cell_type": "code",
   "execution_count": 2,
   "metadata": {
    "scrolled": false
   },
   "outputs": [],
   "source": [
    "%%capture\n",
    "\n",
    "import os \n",
    "import sys \n",
    "!{sys.executable} -m pip install pandas pyarrow lxml ipywidgets\n",
    "# pip install git+git://github.com/ipython/ipywidgets.git\n",
    "!{sys.executable} -m pip install git+https://github.com/brunoamaral/apple-health-exporter.git\n"
   ]
  },
  {
   "cell_type": "markdown",
   "metadata": {},
   "source": [
    "This isn't workin at the moment, but the file needs to be export.zip placed in the root of the notebook."
   ]
  },
  {
   "cell_type": "code",
   "execution_count": 11,
   "metadata": {},
   "outputs": [
    {
     "data": {
      "application/vnd.jupyter.widget-view+json": {
       "model_id": "895edfb0ff644ac08e75cdb1a0603409",
       "version_major": 2,
       "version_minor": 0
      },
      "text/plain": [
       "FileUpload(value={}, description='Upload')"
      ]
     },
     "metadata": {},
     "output_type": "display_data"
    }
   ],
   "source": [
    "from ipywidgets import FileUpload\n",
    "upload = FileUpload()\n",
    "upload"
   ]
  },
  {
   "cell_type": "markdown",
   "metadata": {},
   "source": [
    "Proceeding with default values"
   ]
  },
  {
   "cell_type": "code",
   "execution_count": 1,
   "metadata": {},
   "outputs": [
    {
     "data": {
      "text/plain": [
       "type\n",
       "HKDataTypeSleepDurationGoal                                    1\n",
       "HKQuantityTypeIdentifierActiveEnergyBurned                700099\n",
       "HKQuantityTypeIdentifierAppleExerciseTime                  21275\n",
       "HKQuantityTypeIdentifierAppleStandTime                     20350\n",
       "HKQuantityTypeIdentifierAppleWalkingSteadiness                24\n",
       "HKQuantityTypeIdentifierBasalEnergyBurned                 213364\n",
       "HKQuantityTypeIdentifierBloodAlcoholContent                   11\n",
       "HKQuantityTypeIdentifierBodyFatPercentage                   2504\n",
       "HKQuantityTypeIdentifierBodyMass                            2511\n",
       "HKQuantityTypeIdentifierBodyMassIndex                       3358\n",
       "HKQuantityTypeIdentifierBodyTemperature                        1\n",
       "HKQuantityTypeIdentifierDietaryCaffeine                       89\n",
       "HKQuantityTypeIdentifierDietaryCarbohydrates                 161\n",
       "HKQuantityTypeIdentifierDietaryEnergyConsumed                163\n",
       "HKQuantityTypeIdentifierDietaryFatTotal                      130\n",
       "HKQuantityTypeIdentifierDietaryProtein                       156\n",
       "HKQuantityTypeIdentifierDietarySugar                          82\n",
       "HKQuantityTypeIdentifierDietaryWater                         444\n",
       "HKQuantityTypeIdentifierDistanceCycling                    93698\n",
       "HKQuantityTypeIdentifierDistanceWalkingRunning            144692\n",
       "HKQuantityTypeIdentifierEnvironmentalAudioExposure         26811\n",
       "HKQuantityTypeIdentifierFlightsClimbed                     18904\n",
       "HKQuantityTypeIdentifierHeadphoneAudioExposure              5771\n",
       "HKQuantityTypeIdentifierHeartRate                         224046\n",
       "HKQuantityTypeIdentifierHeartRateVariabilitySDNN            4049\n",
       "HKQuantityTypeIdentifierHeight                                 1\n",
       "HKQuantityTypeIdentifierLeanBodyMass                         304\n",
       "HKQuantityTypeIdentifierRespiratoryRate                     4527\n",
       "HKQuantityTypeIdentifierRestingHeartRate                     679\n",
       "HKQuantityTypeIdentifierSixMinuteWalkTestDistance             62\n",
       "HKQuantityTypeIdentifierStairAscentSpeed                     510\n",
       "HKQuantityTypeIdentifierStairDescentSpeed                    566\n",
       "HKQuantityTypeIdentifierStepCount                         135513\n",
       "HKQuantityTypeIdentifierVO2Max                                89\n",
       "HKQuantityTypeIdentifierWalkingAsymmetryPercentage          2063\n",
       "HKQuantityTypeIdentifierWalkingDoubleSupportPercentage      3985\n",
       "HKQuantityTypeIdentifierWalkingHeartRateAverage              636\n",
       "HKQuantityTypeIdentifierWalkingSpeed                        5105\n",
       "HKQuantityTypeIdentifierWalkingStepLength                   5112\n",
       "dtype: int64"
      ]
     },
     "execution_count": 1,
     "metadata": {},
     "output_type": "execute_result"
    }
   ],
   "source": [
    "from applehealthexporter import export\n",
    "\n",
    "export.health_xml_to_feather(zip_file='export.zip',output_file='./data.feather')\n",
    "\n",
    "import pandas as pd\n",
    "data = pd.read_feather(\"data.feather\")\n",
    "# data.groupby(\"type\").size()\n",
    "\n"
   ]
  },
  {
   "cell_type": "markdown",
   "metadata": {},
   "source": [
    "Metrics and their respective data types\n",
    "\n",
    "1. Walking distance : HKQuantityTypeIdentifierDistanceWalkingRunning\n",
    "2. Step length : HKQuantityTypeIdentifierWalkingStepLength\n",
    "3. Walking speed : HKQuantityTypeIdentifierWalkingSpeed \n",
    "4. Double support time : HKQuantityTypeIdentifierWalkingDoubleSupportPercentage\n",
    "5. Walking Assymetry : HKQuantityTypeIdentifierWalkingAsymmetryPercentage \n",
    "6. Stair speed down : HKQuantityTypeIdentifierStairDescentSpeed\n",
    "7. Stair speed up : HKQuantityTypeIdentifierStairAscentSpeed\n",
    "8.  Six minute walk : HKQuantityTypeIdentifierSixMinuteWalkTestDistance\n",
    "9.  Walking steadyness (last 4 weeks) : HKQuantityTypeIdentifierAppleWalkingSteadiness\n",
    "10. Distance Cycling : HKQuantityTypeIdentifierDistanceCycling"
   ]
  },
  {
   "cell_type": "markdown",
   "metadata": {},
   "source": [
    "## TO DO\n",
    "\n",
    "### process the file with export.zip to produce export.xml\n",
    "\n",
    "`$ python export.py ~/Dropbox/export.zip ~/Downloads/data.feather`\n",
    "\n",
    "### Get the last 30 days of data for mobility and plot charts\n",
    "\n",
    "1. Step length\n",
    "2. Walking speed\n",
    "3. Double support time\n",
    "4. Walking Assymetry\n",
    "5. Stair speed down\n",
    "6. Stair speed up\n",
    "7. Six minute walk\n",
    "8. Walking steadyness (last 4 weeks)\n",
    "\n",
    "Combo charts:\n",
    "\n",
    "1. Walking Assymetry + Walking distance\n",
    "\n"
   ]
  }
 ],
 "metadata": {
  "interpreter": {
   "hash": "0277b96b14c425842615228913045a7658c691e0d3917c6c6b1fa9e121a8c5d3"
  },
  "kernelspec": {
   "display_name": "Python 3 (ipykernel)",
   "language": "python",
   "name": "python3"
  },
  "language_info": {
   "codemirror_mode": {
    "name": "ipython",
    "version": 3
   },
   "file_extension": ".py",
   "mimetype": "text/x-python",
   "name": "python",
   "nbconvert_exporter": "python",
   "pygments_lexer": "ipython3",
   "version": "3.7.2"
  }
 },
 "nbformat": 4,
 "nbformat_minor": 2
}
