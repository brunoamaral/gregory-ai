{
 "cells": [
  {
   "cell_type": "markdown",
   "metadata": {},
   "source": [
    "# Apple Health Mobility Report\n",
    "\n",
    "Our goal is to build a report with the Apple Health data that can be used by Physical Therapists to assess the progress of their patients.\n",
    "\n",
    "To do this we will use the full export of the Apple Health App and [convert it to a Pandas Dataframe using Milind Ganjoo's Apple Health Exporter code](https://github.com/mganjoo/apple-health-exporter).\n",
    "\n",
    "## Getting the user data to display\n",
    "\n",
    "1. Export Apple Health data from within the Health app.\n",
    "\n",
    "![click on \"user\" icon and then on \"export health data\"](images/exporting.png)"
   ]
  },
  {
   "cell_type": "code",
   "execution_count": 1,
   "metadata": {
    "scrolled": false
   },
   "outputs": [
    {
     "name": "stdout",
     "output_type": "stream",
     "text": [
      "Requirement already satisfied: pandas in /usr/local/lib/python3.9/site-packages (1.2.4)\n",
      "Collecting pyarrow\n",
      "  Downloading pyarrow-7.0.0-cp39-cp39-macosx_10_13_x86_64.whl (20.2 MB)\n",
      "     |████████████████████████████████| 20.2 MB 13.0 MB/s            \n",
      "\u001b[?25hRequirement already satisfied: lxml in /Users/brunoamaral/Library/Python/3.9/lib/python/site-packages (4.6.2)\n",
      "Collecting ipywidgets\n",
      "  Using cached ipywidgets-7.7.0-py2.py3-none-any.whl (123 kB)\n",
      "Requirement already satisfied: pytz>=2017.3 in /usr/local/Cellar/jupyterlab/3.3.0/libexec/lib/python3.9/site-packages (from pandas) (2021.3)\n",
      "Requirement already satisfied: python-dateutil>=2.7.3 in /usr/local/Cellar/jupyterlab/3.3.0/libexec/lib/python3.9/site-packages (from pandas) (2.8.2)\n",
      "Requirement already satisfied: numpy>=1.16.5 in /usr/local/lib/python3.9/site-packages (from pandas) (1.20.3)\n",
      "Collecting widgetsnbextension~=3.6.0\n",
      "  Using cached widgetsnbextension-3.6.0-py2.py3-none-any.whl (1.6 MB)\n",
      "Requirement already satisfied: traitlets>=4.3.1 in /usr/local/Cellar/jupyterlab/3.3.0/libexec/lib/python3.9/site-packages (from ipywidgets) (5.1.1)\n",
      "Requirement already satisfied: ipython>=4.0.0 in /usr/local/Cellar/jupyterlab/3.3.0/libexec/lib/python3.9/site-packages (from ipywidgets) (8.1.1)\n",
      "Requirement already satisfied: ipykernel>=4.5.1 in /usr/local/Cellar/jupyterlab/3.3.0/libexec/lib/python3.9/site-packages (from ipywidgets) (6.9.1)\n",
      "Requirement already satisfied: ipython-genutils~=0.2.0 in /usr/local/Cellar/jupyterlab/3.3.0/libexec/lib/python3.9/site-packages (from ipywidgets) (0.2.0)\n",
      "Requirement already satisfied: nbformat>=4.2.0 in /usr/local/Cellar/jupyterlab/3.3.0/libexec/lib/python3.9/site-packages (from ipywidgets) (5.1.3)\n",
      "Collecting jupyterlab-widgets>=1.0.0\n",
      "  Using cached jupyterlab_widgets-1.1.0-py3-none-any.whl (245 kB)\n",
      "Requirement already satisfied: nest-asyncio in /usr/local/Cellar/jupyterlab/3.3.0/libexec/lib/python3.9/site-packages (from ipykernel>=4.5.1->ipywidgets) (1.5.4)\n",
      "Requirement already satisfied: appnope in /usr/local/Cellar/jupyterlab/3.3.0/libexec/lib/python3.9/site-packages (from ipykernel>=4.5.1->ipywidgets) (0.1.2)\n",
      "Requirement already satisfied: jupyter-client<8.0 in /usr/local/Cellar/jupyterlab/3.3.0/libexec/lib/python3.9/site-packages (from ipykernel>=4.5.1->ipywidgets) (7.1.2)\n",
      "Requirement already satisfied: matplotlib-inline<0.2.0,>=0.1.0 in /usr/local/Cellar/jupyterlab/3.3.0/libexec/lib/python3.9/site-packages (from ipykernel>=4.5.1->ipywidgets) (0.1.3)\n",
      "Requirement already satisfied: debugpy<2.0,>=1.0.0 in /usr/local/Cellar/jupyterlab/3.3.0/libexec/lib/python3.9/site-packages (from ipykernel>=4.5.1->ipywidgets) (1.5.1)\n",
      "Requirement already satisfied: tornado<7.0,>=4.2 in /usr/local/Cellar/jupyterlab/3.3.0/libexec/lib/python3.9/site-packages (from ipykernel>=4.5.1->ipywidgets) (6.1)\n",
      "Requirement already satisfied: pexpect>4.3 in /usr/local/Cellar/jupyterlab/3.3.0/libexec/lib/python3.9/site-packages (from ipython>=4.0.0->ipywidgets) (4.8.0)\n",
      "Requirement already satisfied: backcall in /usr/local/Cellar/jupyterlab/3.3.0/libexec/lib/python3.9/site-packages (from ipython>=4.0.0->ipywidgets) (0.2.0)\n",
      "Requirement already satisfied: prompt-toolkit!=3.0.0,!=3.0.1,<3.1.0,>=2.0.0 in /usr/local/Cellar/jupyterlab/3.3.0/libexec/lib/python3.9/site-packages (from ipython>=4.0.0->ipywidgets) (3.0.28)\n",
      "Requirement already satisfied: pygments>=2.4.0 in /usr/local/Cellar/jupyterlab/3.3.0/libexec/lib/python3.9/site-packages (from ipython>=4.0.0->ipywidgets) (2.11.2)\n",
      "Requirement already satisfied: pickleshare in /usr/local/Cellar/jupyterlab/3.3.0/libexec/lib/python3.9/site-packages (from ipython>=4.0.0->ipywidgets) (0.7.5)\n",
      "Requirement already satisfied: stack-data in /usr/local/Cellar/jupyterlab/3.3.0/libexec/lib/python3.9/site-packages (from ipython>=4.0.0->ipywidgets) (0.2.0)\n",
      "Requirement already satisfied: setuptools>=18.5 in /usr/local/Cellar/jupyterlab/3.3.0/libexec/lib/python3.9/site-packages (from ipython>=4.0.0->ipywidgets) (60.5.0)\n",
      "Requirement already satisfied: jedi>=0.16 in /usr/local/Cellar/jupyterlab/3.3.0/libexec/lib/python3.9/site-packages (from ipython>=4.0.0->ipywidgets) (0.18.1)\n",
      "Requirement already satisfied: decorator in /usr/local/Cellar/jupyterlab/3.3.0/libexec/lib/python3.9/site-packages (from ipython>=4.0.0->ipywidgets) (5.1.1)\n",
      "Requirement already satisfied: jsonschema!=2.5.0,>=2.4 in /usr/local/Cellar/jupyterlab/3.3.0/libexec/lib/python3.9/site-packages (from nbformat>=4.2.0->ipywidgets) (4.4.0)\n",
      "Requirement already satisfied: jupyter_core in /usr/local/Cellar/jupyterlab/3.3.0/libexec/lib/python3.9/site-packages (from nbformat>=4.2.0->ipywidgets) (4.9.2)\n",
      "Requirement already satisfied: six>=1.5 in /usr/local/Cellar/six/1.16.0_2/lib/python3.9/site-packages (from python-dateutil>=2.7.3->pandas) (1.16.0)\n",
      "Requirement already satisfied: notebook>=4.4.1 in /usr/local/Cellar/jupyterlab/3.3.0/libexec/lib/python3.9/site-packages (from widgetsnbextension~=3.6.0->ipywidgets) (6.4.8)\n",
      "Requirement already satisfied: parso<0.9.0,>=0.8.0 in /usr/local/Cellar/jupyterlab/3.3.0/libexec/lib/python3.9/site-packages (from jedi>=0.16->ipython>=4.0.0->ipywidgets) (0.8.3)\n",
      "Requirement already satisfied: attrs>=17.4.0 in /usr/local/Cellar/jupyterlab/3.3.0/libexec/lib/python3.9/site-packages (from jsonschema!=2.5.0,>=2.4->nbformat>=4.2.0->ipywidgets) (21.4.0)\n",
      "Requirement already satisfied: pyrsistent!=0.17.0,!=0.17.1,!=0.17.2,>=0.14.0 in /usr/local/Cellar/jupyterlab/3.3.0/libexec/lib/python3.9/site-packages (from jsonschema!=2.5.0,>=2.4->nbformat>=4.2.0->ipywidgets) (0.18.1)\n",
      "Requirement already satisfied: pyzmq>=13 in /usr/local/Cellar/jupyterlab/3.3.0/libexec/lib/python3.9/site-packages (from jupyter-client<8.0->ipykernel>=4.5.1->ipywidgets) (22.3.0)\n",
      "Requirement already satisfied: entrypoints in /usr/local/Cellar/jupyterlab/3.3.0/libexec/lib/python3.9/site-packages (from jupyter-client<8.0->ipykernel>=4.5.1->ipywidgets) (0.4)\n",
      "Requirement already satisfied: nbconvert in /usr/local/Cellar/jupyterlab/3.3.0/libexec/lib/python3.9/site-packages (from notebook>=4.4.1->widgetsnbextension~=3.6.0->ipywidgets) (6.4.2)\n",
      "Requirement already satisfied: argon2-cffi in /usr/local/Cellar/jupyterlab/3.3.0/libexec/lib/python3.9/site-packages (from notebook>=4.4.1->widgetsnbextension~=3.6.0->ipywidgets) (21.3.0)\n",
      "Requirement already satisfied: jinja2 in /usr/local/Cellar/jupyterlab/3.3.0/libexec/lib/python3.9/site-packages (from notebook>=4.4.1->widgetsnbextension~=3.6.0->ipywidgets) (3.0.3)\n",
      "Requirement already satisfied: Send2Trash>=1.8.0 in /usr/local/Cellar/jupyterlab/3.3.0/libexec/lib/python3.9/site-packages (from notebook>=4.4.1->widgetsnbextension~=3.6.0->ipywidgets) (1.8.0)\n",
      "Requirement already satisfied: terminado>=0.8.3 in /usr/local/Cellar/jupyterlab/3.3.0/libexec/lib/python3.9/site-packages (from notebook>=4.4.1->widgetsnbextension~=3.6.0->ipywidgets) (0.13.2)\n",
      "Requirement already satisfied: prometheus-client in /usr/local/Cellar/jupyterlab/3.3.0/libexec/lib/python3.9/site-packages (from notebook>=4.4.1->widgetsnbextension~=3.6.0->ipywidgets) (0.13.1)\n",
      "Requirement already satisfied: ptyprocess>=0.5 in /usr/local/Cellar/jupyterlab/3.3.0/libexec/lib/python3.9/site-packages (from pexpect>4.3->ipython>=4.0.0->ipywidgets) (0.7.0)\n",
      "Requirement already satisfied: wcwidth in /usr/local/Cellar/jupyterlab/3.3.0/libexec/lib/python3.9/site-packages (from prompt-toolkit!=3.0.0,!=3.0.1,<3.1.0,>=2.0.0->ipython>=4.0.0->ipywidgets) (0.2.5)\n",
      "Requirement already satisfied: asttokens in /usr/local/Cellar/jupyterlab/3.3.0/libexec/lib/python3.9/site-packages (from stack-data->ipython>=4.0.0->ipywidgets) (2.0.5)\n",
      "Requirement already satisfied: pure-eval in /usr/local/Cellar/jupyterlab/3.3.0/libexec/lib/python3.9/site-packages (from stack-data->ipython>=4.0.0->ipywidgets) (0.2.2)\n",
      "Requirement already satisfied: executing in /usr/local/Cellar/jupyterlab/3.3.0/libexec/lib/python3.9/site-packages (from stack-data->ipython>=4.0.0->ipywidgets) (0.8.3)\n",
      "Requirement already satisfied: argon2-cffi-bindings in /usr/local/Cellar/jupyterlab/3.3.0/libexec/lib/python3.9/site-packages (from argon2-cffi->notebook>=4.4.1->widgetsnbextension~=3.6.0->ipywidgets) (21.2.0)\n",
      "Requirement already satisfied: MarkupSafe>=2.0 in /usr/local/Cellar/jupyterlab/3.3.0/libexec/lib/python3.9/site-packages (from jinja2->notebook>=4.4.1->widgetsnbextension~=3.6.0->ipywidgets) (2.1.0)\n",
      "Requirement already satisfied: mistune<2,>=0.8.1 in /usr/local/Cellar/jupyterlab/3.3.0/libexec/lib/python3.9/site-packages (from nbconvert->notebook>=4.4.1->widgetsnbextension~=3.6.0->ipywidgets) (0.8.4)\n",
      "Requirement already satisfied: jupyterlab_pygments in /usr/local/Cellar/jupyterlab/3.3.0/libexec/lib/python3.9/site-packages (from nbconvert->notebook>=4.4.1->widgetsnbextension~=3.6.0->ipywidgets) (0.1.2)\n",
      "Requirement already satisfied: bleach in /usr/local/Cellar/jupyterlab/3.3.0/libexec/lib/python3.9/site-packages (from nbconvert->notebook>=4.4.1->widgetsnbextension~=3.6.0->ipywidgets) (4.1.0)\n",
      "Requirement already satisfied: pandocfilters>=1.4.1 in /usr/local/Cellar/jupyterlab/3.3.0/libexec/lib/python3.9/site-packages (from nbconvert->notebook>=4.4.1->widgetsnbextension~=3.6.0->ipywidgets) (1.5.0)\n",
      "Requirement already satisfied: testpath in /usr/local/Cellar/jupyterlab/3.3.0/libexec/lib/python3.9/site-packages (from nbconvert->notebook>=4.4.1->widgetsnbextension~=3.6.0->ipywidgets) (0.6.0)\n",
      "Requirement already satisfied: defusedxml in /usr/local/Cellar/jupyterlab/3.3.0/libexec/lib/python3.9/site-packages (from nbconvert->notebook>=4.4.1->widgetsnbextension~=3.6.0->ipywidgets) (0.7.1)\n",
      "Requirement already satisfied: nbclient<0.6.0,>=0.5.0 in /usr/local/Cellar/jupyterlab/3.3.0/libexec/lib/python3.9/site-packages (from nbconvert->notebook>=4.4.1->widgetsnbextension~=3.6.0->ipywidgets) (0.5.11)\n"
     ]
    },
    {
     "name": "stdout",
     "output_type": "stream",
     "text": [
      "Requirement already satisfied: cffi>=1.0.1 in /usr/local/Cellar/jupyterlab/3.3.0/libexec/lib/python3.9/site-packages (from argon2-cffi-bindings->argon2-cffi->notebook>=4.4.1->widgetsnbextension~=3.6.0->ipywidgets) (1.15.0)\n",
      "Requirement already satisfied: packaging in /usr/local/Cellar/jupyterlab/3.3.0/libexec/lib/python3.9/site-packages (from bleach->nbconvert->notebook>=4.4.1->widgetsnbextension~=3.6.0->ipywidgets) (21.3)\n",
      "Requirement already satisfied: webencodings in /usr/local/Cellar/jupyterlab/3.3.0/libexec/lib/python3.9/site-packages (from bleach->nbconvert->notebook>=4.4.1->widgetsnbextension~=3.6.0->ipywidgets) (0.5.1)\n",
      "Requirement already satisfied: pycparser in /usr/local/Cellar/jupyterlab/3.3.0/libexec/lib/python3.9/site-packages (from cffi>=1.0.1->argon2-cffi-bindings->argon2-cffi->notebook>=4.4.1->widgetsnbextension~=3.6.0->ipywidgets) (2.21)\n",
      "Requirement already satisfied: pyparsing!=3.0.5,>=2.0.2 in /usr/local/Cellar/jupyterlab/3.3.0/libexec/lib/python3.9/site-packages (from packaging->bleach->nbconvert->notebook>=4.4.1->widgetsnbextension~=3.6.0->ipywidgets) (3.0.7)\n",
      "Installing collected packages: widgetsnbextension, jupyterlab-widgets, pyarrow, ipywidgets\n",
      "Successfully installed ipywidgets-7.7.0 jupyterlab-widgets-1.1.0 pyarrow-7.0.0 widgetsnbextension-3.6.0\n",
      "\u001b[33mWARNING: You are using pip version 21.3.1; however, version 22.0.4 is available.\n",
      "You should consider upgrading via the '/usr/local/Cellar/jupyterlab/3.3.0/libexec/bin/python3.9 -m pip install --upgrade pip' command.\u001b[0m\n",
      "Collecting git+https://github.com/brunoamaral/apple-health-exporter.git\n",
      "  Cloning https://github.com/brunoamaral/apple-health-exporter.git to /private/var/folders/xb/7x2qm97153q23rhtss8tmvwm0000gn/T/pip-req-build-d3ou67r6\n",
      "  Running command git clone --filter=blob:none -q https://github.com/brunoamaral/apple-health-exporter.git /private/var/folders/xb/7x2qm97153q23rhtss8tmvwm0000gn/T/pip-req-build-d3ou67r6\n",
      "  Resolved https://github.com/brunoamaral/apple-health-exporter.git to commit 3b03b82941293ac4df26c8e71a920bdbe8147061\n",
      "  Preparing metadata (setup.py) ... \u001b[?25ldone\n",
      "\u001b[?25hRequirement already satisfied: numpy in /usr/local/lib/python3.9/site-packages (from apple-health-exporter==1.0.0) (1.20.3)\n",
      "Requirement already satisfied: pandas in /usr/local/lib/python3.9/site-packages (from apple-health-exporter==1.0.0) (1.2.4)\n",
      "Requirement already satisfied: pyarrow in /usr/local/Cellar/jupyterlab/3.3.0/libexec/lib/python3.9/site-packages (from apple-health-exporter==1.0.0) (7.0.0)\n",
      "Requirement already satisfied: python-dateutil in /usr/local/Cellar/jupyterlab/3.3.0/libexec/lib/python3.9/site-packages (from apple-health-exporter==1.0.0) (2.8.2)\n",
      "Requirement already satisfied: pytz in /usr/local/Cellar/jupyterlab/3.3.0/libexec/lib/python3.9/site-packages (from apple-health-exporter==1.0.0) (2021.3)\n",
      "Requirement already satisfied: six in /usr/local/Cellar/six/1.16.0_2/lib/python3.9/site-packages (from apple-health-exporter==1.0.0) (1.16.0)\n",
      "Building wheels for collected packages: apple-health-exporter\n",
      "  Building wheel for apple-health-exporter (setup.py) ... \u001b[?25ldone\n",
      "\u001b[?25h  Created wheel for apple-health-exporter: filename=apple_health_exporter-1.0.0-py3-none-any.whl size=5003 sha256=8ee10d5176c5a7f5892eda1ba92373cedeb44326bb954ff4318d09bd338ea7cb\n",
      "  Stored in directory: /private/var/folders/xb/7x2qm97153q23rhtss8tmvwm0000gn/T/pip-ephem-wheel-cache-njq7m4ni/wheels/a4/32/00/b25d8acb2205644153be337f3d91a40c9bbb5330977f253038\n",
      "Successfully built apple-health-exporter\n",
      "Installing collected packages: apple-health-exporter\n",
      "Successfully installed apple-health-exporter-1.0.0\n",
      "\u001b[33mWARNING: You are using pip version 21.3.1; however, version 22.0.4 is available.\n",
      "You should consider upgrading via the '/usr/local/Cellar/jupyterlab/3.3.0/libexec/bin/python3.9 -m pip install --upgrade pip' command.\u001b[0m\n"
     ]
    }
   ],
   "source": [
    "import os \n",
    "import sys \n",
    "!{sys.executable} -m pip install pandas pyarrow lxml ipywidgets\n",
    "# pip install git+git://github.com/ipython/ipywidgets.git\n",
    "!{sys.executable} -m pip install git+https://github.com/brunoamaral/apple-health-exporter.git\n"
   ]
  },
  {
   "cell_type": "markdown",
   "metadata": {},
   "source": [
    "This isn't workin at the moment, but the file needs to be export.zip placed in the root of the notebook."
   ]
  },
  {
   "cell_type": "code",
   "execution_count": 11,
   "metadata": {},
   "outputs": [
    {
     "data": {
      "application/vnd.jupyter.widget-view+json": {
       "model_id": "895edfb0ff644ac08e75cdb1a0603409",
       "version_major": 2,
       "version_minor": 0
      },
      "text/plain": [
       "FileUpload(value={}, description='Upload')"
      ]
     },
     "metadata": {},
     "output_type": "display_data"
    }
   ],
   "source": [
    "from ipywidgets import FileUpload\n",
    "upload = FileUpload()\n",
    "upload"
   ]
  },
  {
   "cell_type": "markdown",
   "metadata": {},
   "source": [
    "Proceeding with default values"
   ]
  },
  {
   "cell_type": "code",
   "execution_count": 1,
   "metadata": {},
   "outputs": [
    {
     "data": {
      "text/plain": [
       "type\n",
       "HKDataTypeSleepDurationGoal                                    1\n",
       "HKQuantityTypeIdentifierActiveEnergyBurned                700099\n",
       "HKQuantityTypeIdentifierAppleExerciseTime                  21275\n",
       "HKQuantityTypeIdentifierAppleStandTime                     20350\n",
       "HKQuantityTypeIdentifierAppleWalkingSteadiness                24\n",
       "HKQuantityTypeIdentifierBasalEnergyBurned                 213364\n",
       "HKQuantityTypeIdentifierBloodAlcoholContent                   11\n",
       "HKQuantityTypeIdentifierBodyFatPercentage                   2504\n",
       "HKQuantityTypeIdentifierBodyMass                            2511\n",
       "HKQuantityTypeIdentifierBodyMassIndex                       3358\n",
       "HKQuantityTypeIdentifierBodyTemperature                        1\n",
       "HKQuantityTypeIdentifierDietaryCaffeine                       89\n",
       "HKQuantityTypeIdentifierDietaryCarbohydrates                 161\n",
       "HKQuantityTypeIdentifierDietaryEnergyConsumed                163\n",
       "HKQuantityTypeIdentifierDietaryFatTotal                      130\n",
       "HKQuantityTypeIdentifierDietaryProtein                       156\n",
       "HKQuantityTypeIdentifierDietarySugar                          82\n",
       "HKQuantityTypeIdentifierDietaryWater                         444\n",
       "HKQuantityTypeIdentifierDistanceCycling                    93698\n",
       "HKQuantityTypeIdentifierDistanceWalkingRunning            144692\n",
       "HKQuantityTypeIdentifierEnvironmentalAudioExposure         26811\n",
       "HKQuantityTypeIdentifierFlightsClimbed                     18904\n",
       "HKQuantityTypeIdentifierHeadphoneAudioExposure              5771\n",
       "HKQuantityTypeIdentifierHeartRate                         224046\n",
       "HKQuantityTypeIdentifierHeartRateVariabilitySDNN            4049\n",
       "HKQuantityTypeIdentifierHeight                                 1\n",
       "HKQuantityTypeIdentifierLeanBodyMass                         304\n",
       "HKQuantityTypeIdentifierRespiratoryRate                     4527\n",
       "HKQuantityTypeIdentifierRestingHeartRate                     679\n",
       "HKQuantityTypeIdentifierSixMinuteWalkTestDistance             62\n",
       "HKQuantityTypeIdentifierStairAscentSpeed                     510\n",
       "HKQuantityTypeIdentifierStairDescentSpeed                    566\n",
       "HKQuantityTypeIdentifierStepCount                         135513\n",
       "HKQuantityTypeIdentifierVO2Max                                89\n",
       "HKQuantityTypeIdentifierWalkingAsymmetryPercentage          2063\n",
       "HKQuantityTypeIdentifierWalkingDoubleSupportPercentage      3985\n",
       "HKQuantityTypeIdentifierWalkingHeartRateAverage              636\n",
       "HKQuantityTypeIdentifierWalkingSpeed                        5105\n",
       "HKQuantityTypeIdentifierWalkingStepLength                   5112\n",
       "dtype: int64"
      ]
     },
     "execution_count": 1,
     "metadata": {},
     "output_type": "execute_result"
    }
   ],
   "source": [
    "from applehealthexporter import export\n",
    "\n",
    "export.health_xml_to_feather(zip_file='export.zip',output_file='./data.feather')\n",
    "\n",
    "import pandas as pd\n",
    "data = pd.read_feather(\"data.feather\")\n",
    "# data.groupby(\"type\").size()\n",
    "\n"
   ]
  },
  {
   "cell_type": "markdown",
   "metadata": {},
   "source": [
    "Metrics and their respective data types\n",
    "\n",
    "1. Walking distance : HKQuantityTypeIdentifierDistanceWalkingRunning\n",
    "2. Step length : HKQuantityTypeIdentifierWalkingStepLength\n",
    "3. Walking speed : HKQuantityTypeIdentifierWalkingSpeed \n",
    "4. Double support time : HKQuantityTypeIdentifierWalkingDoubleSupportPercentage\n",
    "5. Walking Assymetry : HKQuantityTypeIdentifierWalkingAsymmetryPercentage \n",
    "6. Stair speed down : HKQuantityTypeIdentifierStairDescentSpeed\n",
    "7. Stair speed up : HKQuantityTypeIdentifierStairAscentSpeed\n",
    "8.  Six minute walk : HKQuantityTypeIdentifierSixMinuteWalkTestDistance\n",
    "9.  Walking steadyness (last 4 weeks) : HKQuantityTypeIdentifierAppleWalkingSteadiness\n",
    "10. Distance Cycling : HKQuantityTypeIdentifierDistanceCycling"
   ]
  },
  {
   "cell_type": "markdown",
   "metadata": {},
   "source": [
    "## TO DO\n",
    "\n",
    "### process the file with export.zip to produce export.xml\n",
    "\n",
    "`$ python export.py ~/Dropbox/export.zip ~/Downloads/data.feather`\n",
    "\n",
    "### Get the last 30 days of data for mobility and plot charts\n",
    "\n",
    "1. Step length\n",
    "2. Walking speed\n",
    "3. Double support time\n",
    "4. Walking Assymetry\n",
    "5. Stair speed down\n",
    "6. Stair speed up\n",
    "7. Six minute walk\n",
    "8. Walking steadyness (last 4 weeks)\n",
    "\n",
    "Combo charts:\n",
    "\n",
    "1. Walking Assymetry + Walking distance\n",
    "\n"
   ]
  }
 ],
 "metadata": {
  "interpreter": {
   "hash": "0277b96b14c425842615228913045a7658c691e0d3917c6c6b1fa9e121a8c5d3"
  },
  "kernelspec": {
   "display_name": "Python 3 (ipykernel)",
   "language": "python",
   "name": "python3"
  },
  "language_info": {
   "codemirror_mode": {
    "name": "ipython",
    "version": 3
   },
   "file_extension": ".py",
   "mimetype": "text/x-python",
   "name": "python",
   "nbconvert_exporter": "python",
   "pygments_lexer": "ipython3",
   "version": "3.7.2"
  }
 },
 "nbformat": 4,
 "nbformat_minor": 2
}
