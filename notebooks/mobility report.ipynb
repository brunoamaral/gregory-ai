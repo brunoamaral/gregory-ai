{
 "cells": [
  {
   "cell_type": "markdown",
   "metadata": {},
   "source": [
    "# Apple Health Mobility Report\n",
    "\n",
    "Our goal is to build a report with the Apple Health data that can be used by Physical Therapists to assess the progress of their patients.\n",
    "\n",
    "To do this we will use the full export of the Apple Health App and [convert it to a Pandas Dataframe using Milind Ganjoo's Apple Health Exporter code](https://github.com/mganjoo/apple-health-exporter).\n",
    "\n",
    "## Getting the user data to display\n",
    "\n",
    "1. Export Apple Health data from within the Health app.\n",
    "\n",
    "![click on \"user\" icon and then on \"export health data\"](images/exporting.png)"
   ]
  },
  {
   "cell_type": "code",
   "execution_count": 3,
   "metadata": {
    "scrolled": false
   },
   "outputs": [
    {
     "name": "stdout",
     "output_type": "stream",
     "text": [
      "Requirement already satisfied: pip in /Library/Frameworks/Python.framework/Versions/3.7/lib/python3.7/site-packages (22.0.4)\n",
      "Requirement already satisfied: pandas in /Library/Frameworks/Python.framework/Versions/3.7/lib/python3.7/site-packages (1.3.2)\n",
      "Requirement already satisfied: pyarrow in /Library/Frameworks/Python.framework/Versions/3.7/lib/python3.7/site-packages (7.0.0)\n",
      "Requirement already satisfied: lxml in /Library/Frameworks/Python.framework/Versions/3.7/lib/python3.7/site-packages (4.6.4)\n",
      "Requirement already satisfied: ipywidgets in /Library/Frameworks/Python.framework/Versions/3.7/lib/python3.7/site-packages (7.7.0)\n",
      "Requirement already satisfied: python-dateutil>=2.7.3 in /Library/Frameworks/Python.framework/Versions/3.7/lib/python3.7/site-packages (from pandas) (2.8.2)\n",
      "Requirement already satisfied: numpy>=1.17.3 in /Library/Frameworks/Python.framework/Versions/3.7/lib/python3.7/site-packages (from pandas) (1.19.5)\n",
      "Requirement already satisfied: pytz>=2017.3 in /Library/Frameworks/Python.framework/Versions/3.7/lib/python3.7/site-packages (from pandas) (2021.1)\n",
      "Requirement already satisfied: ipython>=4.0.0 in /Library/Frameworks/Python.framework/Versions/3.7/lib/python3.7/site-packages (from ipywidgets) (7.26.0)\n",
      "Requirement already satisfied: widgetsnbextension~=3.6.0 in /Library/Frameworks/Python.framework/Versions/3.7/lib/python3.7/site-packages (from ipywidgets) (3.6.0)\n",
      "Requirement already satisfied: ipykernel>=4.5.1 in /Library/Frameworks/Python.framework/Versions/3.7/lib/python3.7/site-packages (from ipywidgets) (6.2.0)\n",
      "Requirement already satisfied: jupyterlab-widgets>=1.0.0 in /Library/Frameworks/Python.framework/Versions/3.7/lib/python3.7/site-packages (from ipywidgets) (1.1.0)\n",
      "Requirement already satisfied: nbformat>=4.2.0 in /Library/Frameworks/Python.framework/Versions/3.7/lib/python3.7/site-packages (from ipywidgets) (5.1.3)\n",
      "Requirement already satisfied: ipython-genutils~=0.2.0 in /Library/Frameworks/Python.framework/Versions/3.7/lib/python3.7/site-packages (from ipywidgets) (0.2.0)\n",
      "Requirement already satisfied: traitlets>=4.3.1 in /Library/Frameworks/Python.framework/Versions/3.7/lib/python3.7/site-packages (from ipywidgets) (5.0.5)\n",
      "Requirement already satisfied: debugpy<2.0,>=1.0.0 in /Library/Frameworks/Python.framework/Versions/3.7/lib/python3.7/site-packages (from ipykernel>=4.5.1->ipywidgets) (1.4.1)\n",
      "Requirement already satisfied: tornado<7.0,>=4.2 in /Library/Frameworks/Python.framework/Versions/3.7/lib/python3.7/site-packages (from ipykernel>=4.5.1->ipywidgets) (6.1)\n",
      "Requirement already satisfied: argcomplete>=1.12.3 in /Library/Frameworks/Python.framework/Versions/3.7/lib/python3.7/site-packages (from ipykernel>=4.5.1->ipywidgets) (1.12.3)\n",
      "Requirement already satisfied: importlib-metadata<5 in /Library/Frameworks/Python.framework/Versions/3.7/lib/python3.7/site-packages (from ipykernel>=4.5.1->ipywidgets) (1.7.0)\n",
      "Requirement already satisfied: appnope in /Library/Frameworks/Python.framework/Versions/3.7/lib/python3.7/site-packages (from ipykernel>=4.5.1->ipywidgets) (0.1.2)\n",
      "Requirement already satisfied: jupyter-client<8.0 in /Library/Frameworks/Python.framework/Versions/3.7/lib/python3.7/site-packages (from ipykernel>=4.5.1->ipywidgets) (7.0.1)\n",
      "Requirement already satisfied: matplotlib-inline<0.2.0,>=0.1.0 in /Library/Frameworks/Python.framework/Versions/3.7/lib/python3.7/site-packages (from ipykernel>=4.5.1->ipywidgets) (0.1.2)\n",
      "Requirement already satisfied: decorator in /Library/Frameworks/Python.framework/Versions/3.7/lib/python3.7/site-packages (from ipython>=4.0.0->ipywidgets) (5.0.9)\n",
      "Requirement already satisfied: jedi>=0.16 in /Library/Frameworks/Python.framework/Versions/3.7/lib/python3.7/site-packages (from ipython>=4.0.0->ipywidgets) (0.18.0)\n",
      "Requirement already satisfied: prompt-toolkit!=3.0.0,!=3.0.1,<3.1.0,>=2.0.0 in /Library/Frameworks/Python.framework/Versions/3.7/lib/python3.7/site-packages (from ipython>=4.0.0->ipywidgets) (3.0.20)\n",
      "Requirement already satisfied: pexpect>4.3 in /Library/Frameworks/Python.framework/Versions/3.7/lib/python3.7/site-packages (from ipython>=4.0.0->ipywidgets) (4.8.0)\n",
      "Requirement already satisfied: setuptools>=18.5 in /Library/Frameworks/Python.framework/Versions/3.7/lib/python3.7/site-packages (from ipython>=4.0.0->ipywidgets) (58.0.4)\n",
      "Requirement already satisfied: pickleshare in /Library/Frameworks/Python.framework/Versions/3.7/lib/python3.7/site-packages (from ipython>=4.0.0->ipywidgets) (0.7.5)\n",
      "Requirement already satisfied: pygments in /Library/Frameworks/Python.framework/Versions/3.7/lib/python3.7/site-packages (from ipython>=4.0.0->ipywidgets) (2.10.0)\n",
      "Requirement already satisfied: backcall in /Library/Frameworks/Python.framework/Versions/3.7/lib/python3.7/site-packages (from ipython>=4.0.0->ipywidgets) (0.2.0)\n",
      "Requirement already satisfied: jsonschema!=2.5.0,>=2.4 in /Library/Frameworks/Python.framework/Versions/3.7/lib/python3.7/site-packages (from nbformat>=4.2.0->ipywidgets) (3.2.0)\n",
      "Requirement already satisfied: jupyter-core in /Library/Frameworks/Python.framework/Versions/3.7/lib/python3.7/site-packages (from nbformat>=4.2.0->ipywidgets) (4.7.1)\n",
      "Requirement already satisfied: six>=1.5 in /Library/Frameworks/Python.framework/Versions/3.7/lib/python3.7/site-packages (from python-dateutil>=2.7.3->pandas) (1.15.0)\n",
      "Requirement already satisfied: notebook>=4.4.1 in /Library/Frameworks/Python.framework/Versions/3.7/lib/python3.7/site-packages (from widgetsnbextension~=3.6.0->ipywidgets) (6.4.10)\n",
      "Requirement already satisfied: zipp>=0.5 in /Library/Frameworks/Python.framework/Versions/3.7/lib/python3.7/site-packages (from importlib-metadata<5->ipykernel>=4.5.1->ipywidgets) (3.4.0)\n",
      "Requirement already satisfied: parso<0.9.0,>=0.8.0 in /Library/Frameworks/Python.framework/Versions/3.7/lib/python3.7/site-packages (from jedi>=0.16->ipython>=4.0.0->ipywidgets) (0.8.2)\n",
      "Requirement already satisfied: pyrsistent>=0.14.0 in /Library/Frameworks/Python.framework/Versions/3.7/lib/python3.7/site-packages (from jsonschema!=2.5.0,>=2.4->nbformat>=4.2.0->ipywidgets) (0.18.0)\n",
      "Requirement already satisfied: attrs>=17.4.0 in /Library/Frameworks/Python.framework/Versions/3.7/lib/python3.7/site-packages (from jsonschema!=2.5.0,>=2.4->nbformat>=4.2.0->ipywidgets) (20.3.0)\n",
      "Requirement already satisfied: nest-asyncio>=1.5 in /Library/Frameworks/Python.framework/Versions/3.7/lib/python3.7/site-packages (from jupyter-client<8.0->ipykernel>=4.5.1->ipywidgets) (1.5.1)\n",
      "Requirement already satisfied: entrypoints in /Library/Frameworks/Python.framework/Versions/3.7/lib/python3.7/site-packages (from jupyter-client<8.0->ipykernel>=4.5.1->ipywidgets) (0.3)\n",
      "Requirement already satisfied: pyzmq>=13 in /Library/Frameworks/Python.framework/Versions/3.7/lib/python3.7/site-packages (from jupyter-client<8.0->ipykernel>=4.5.1->ipywidgets) (22.2.1)\n",
      "Requirement already satisfied: jinja2 in /Library/Frameworks/Python.framework/Versions/3.7/lib/python3.7/site-packages (from notebook>=4.4.1->widgetsnbextension~=3.6.0->ipywidgets) (3.0.1)\n",
      "Requirement already satisfied: nbconvert>=5 in /Library/Frameworks/Python.framework/Versions/3.7/lib/python3.7/site-packages (from notebook>=4.4.1->widgetsnbextension~=3.6.0->ipywidgets) (6.1.0)\n",
      "Requirement already satisfied: prometheus-client in /Library/Frameworks/Python.framework/Versions/3.7/lib/python3.7/site-packages (from notebook>=4.4.1->widgetsnbextension~=3.6.0->ipywidgets) (0.13.1)\n",
      "Requirement already satisfied: argon2-cffi in /Library/Frameworks/Python.framework/Versions/3.7/lib/python3.7/site-packages (from notebook>=4.4.1->widgetsnbextension~=3.6.0->ipywidgets) (21.3.0)\n",
      "Requirement already satisfied: terminado>=0.8.3 in /Library/Frameworks/Python.framework/Versions/3.7/lib/python3.7/site-packages (from notebook>=4.4.1->widgetsnbextension~=3.6.0->ipywidgets) (0.13.3)\n",
      "Requirement already satisfied: Send2Trash>=1.8.0 in /Library/Frameworks/Python.framework/Versions/3.7/lib/python3.7/site-packages (from notebook>=4.4.1->widgetsnbextension~=3.6.0->ipywidgets) (1.8.0)\n",
      "Requirement already satisfied: ptyprocess>=0.5 in /Library/Frameworks/Python.framework/Versions/3.7/lib/python3.7/site-packages (from pexpect>4.3->ipython>=4.0.0->ipywidgets) (0.7.0)\n",
      "Requirement already satisfied: wcwidth in /Library/Frameworks/Python.framework/Versions/3.7/lib/python3.7/site-packages (from prompt-toolkit!=3.0.0,!=3.0.1,<3.1.0,>=2.0.0->ipython>=4.0.0->ipywidgets) (0.2.5)\n"
     ]
    },
    {
     "name": "stdout",
     "output_type": "stream",
     "text": [
      "Requirement already satisfied: bleach in /Library/Frameworks/Python.framework/Versions/3.7/lib/python3.7/site-packages (from nbconvert>=5->notebook>=4.4.1->widgetsnbextension~=3.6.0->ipywidgets) (4.1.0)\n",
      "Requirement already satisfied: jupyterlab-pygments in /Library/Frameworks/Python.framework/Versions/3.7/lib/python3.7/site-packages (from nbconvert>=5->notebook>=4.4.1->widgetsnbextension~=3.6.0->ipywidgets) (0.1.2)\n",
      "Requirement already satisfied: testpath in /Library/Frameworks/Python.framework/Versions/3.7/lib/python3.7/site-packages (from nbconvert>=5->notebook>=4.4.1->widgetsnbextension~=3.6.0->ipywidgets) (0.5.0)\n",
      "Requirement already satisfied: mistune<2,>=0.8.1 in /Library/Frameworks/Python.framework/Versions/3.7/lib/python3.7/site-packages (from nbconvert>=5->notebook>=4.4.1->widgetsnbextension~=3.6.0->ipywidgets) (0.8.4)\n",
      "Requirement already satisfied: defusedxml in /Library/Frameworks/Python.framework/Versions/3.7/lib/python3.7/site-packages (from nbconvert>=5->notebook>=4.4.1->widgetsnbextension~=3.6.0->ipywidgets) (0.6.0)\n",
      "Requirement already satisfied: pandocfilters>=1.4.1 in /Library/Frameworks/Python.framework/Versions/3.7/lib/python3.7/site-packages (from nbconvert>=5->notebook>=4.4.1->widgetsnbextension~=3.6.0->ipywidgets) (1.4.3)\n",
      "Requirement already satisfied: nbclient<0.6.0,>=0.5.0 in /Library/Frameworks/Python.framework/Versions/3.7/lib/python3.7/site-packages (from nbconvert>=5->notebook>=4.4.1->widgetsnbextension~=3.6.0->ipywidgets) (0.5.4)\n",
      "Requirement already satisfied: MarkupSafe>=2.0 in /Library/Frameworks/Python.framework/Versions/3.7/lib/python3.7/site-packages (from jinja2->notebook>=4.4.1->widgetsnbextension~=3.6.0->ipywidgets) (2.0.1)\n",
      "Requirement already satisfied: typing-extensions in /Library/Frameworks/Python.framework/Versions/3.7/lib/python3.7/site-packages (from argon2-cffi->notebook>=4.4.1->widgetsnbextension~=3.6.0->ipywidgets) (3.7.4.3)\n",
      "Requirement already satisfied: argon2-cffi-bindings in /Library/Frameworks/Python.framework/Versions/3.7/lib/python3.7/site-packages (from argon2-cffi->notebook>=4.4.1->widgetsnbextension~=3.6.0->ipywidgets) (21.2.0)\n",
      "Requirement already satisfied: cffi>=1.0.1 in /Library/Frameworks/Python.framework/Versions/3.7/lib/python3.7/site-packages (from argon2-cffi-bindings->argon2-cffi->notebook>=4.4.1->widgetsnbextension~=3.6.0->ipywidgets) (1.14.4)\n",
      "Requirement already satisfied: packaging in /Library/Frameworks/Python.framework/Versions/3.7/lib/python3.7/site-packages (from bleach->nbconvert>=5->notebook>=4.4.1->widgetsnbextension~=3.6.0->ipywidgets) (21.0)\n",
      "Requirement already satisfied: webencodings in /Library/Frameworks/Python.framework/Versions/3.7/lib/python3.7/site-packages (from bleach->nbconvert>=5->notebook>=4.4.1->widgetsnbextension~=3.6.0->ipywidgets) (0.5.1)\n",
      "Requirement already satisfied: pycparser in /Library/Frameworks/Python.framework/Versions/3.7/lib/python3.7/site-packages (from cffi>=1.0.1->argon2-cffi-bindings->argon2-cffi->notebook>=4.4.1->widgetsnbextension~=3.6.0->ipywidgets) (2.20)\n",
      "Requirement already satisfied: pyparsing>=2.0.2 in /Library/Frameworks/Python.framework/Versions/3.7/lib/python3.7/site-packages (from packaging->bleach->nbconvert>=5->notebook>=4.4.1->widgetsnbextension~=3.6.0->ipywidgets) (2.4.7)\n",
      "Collecting git+https://github.com/brunoamaral/apple-health-exporter.git\n",
      "  Cloning https://github.com/brunoamaral/apple-health-exporter.git to /private/var/folders/xb/7x2qm97153q23rhtss8tmvwm0000gn/T/pip-req-build-jvtiezjk\n",
      "  Running command git clone --filter=blob:none --quiet https://github.com/brunoamaral/apple-health-exporter.git /private/var/folders/xb/7x2qm97153q23rhtss8tmvwm0000gn/T/pip-req-build-jvtiezjk\n",
      "  Resolved https://github.com/brunoamaral/apple-health-exporter.git to commit 7b89a9d49496f1bb3beae4eb15208a5fb2b4688d\n",
      "  Preparing metadata (setup.py) ... \u001b[?25ldone\n",
      "\u001b[?25hRequirement already satisfied: numpy in /Library/Frameworks/Python.framework/Versions/3.7/lib/python3.7/site-packages (from apple-health-exporter==1.0.0) (1.19.5)\n",
      "Requirement already satisfied: pandas in /Library/Frameworks/Python.framework/Versions/3.7/lib/python3.7/site-packages (from apple-health-exporter==1.0.0) (1.3.2)\n",
      "Requirement already satisfied: pyarrow in /Library/Frameworks/Python.framework/Versions/3.7/lib/python3.7/site-packages (from apple-health-exporter==1.0.0) (7.0.0)\n",
      "Requirement already satisfied: python-dateutil in /Library/Frameworks/Python.framework/Versions/3.7/lib/python3.7/site-packages (from apple-health-exporter==1.0.0) (2.8.2)\n",
      "Requirement already satisfied: pytz in /Library/Frameworks/Python.framework/Versions/3.7/lib/python3.7/site-packages (from apple-health-exporter==1.0.0) (2021.1)\n",
      "Requirement already satisfied: six in /Library/Frameworks/Python.framework/Versions/3.7/lib/python3.7/site-packages (from apple-health-exporter==1.0.0) (1.15.0)\n",
      "Requirement already satisfied: lxml in /Library/Frameworks/Python.framework/Versions/3.7/lib/python3.7/site-packages (from apple-health-exporter==1.0.0) (4.6.4)\n"
     ]
    }
   ],
   "source": [
    "#%%capture\n",
    "\n",
    "import os \n",
    "import sys \n",
    "\n",
    "!{sys.executable} -m pip install --upgrade pip\n",
    "!{sys.executable} -m pip install pandas pyarrow lxml ipywidgets\n",
    "# pip install git+git://github.com/ipython/ipywidgets.git\n",
    "!{sys.executable} -m pip install git+https://github.com/brunoamaral/apple-health-exporter.git\n"
   ]
  },
  {
   "cell_type": "markdown",
   "metadata": {},
   "source": [
    "This isn't workin at the moment, but the file needs to be export.zip placed in the root of the notebook."
   ]
  },
  {
   "cell_type": "code",
   "execution_count": 25,
   "metadata": {
    "collapsed": true
   },
   "outputs": [
    {
     "name": "stdout",
     "output_type": "stream",
     "text": [
      "Requirement already satisfied: fileupload in /usr/local/Cellar/jupyterlab/3.3.0/libexec/lib/python3.9/site-packages (0.1.5)\n",
      "Requirement already satisfied: traitlets>=4.2 in /usr/local/Cellar/jupyterlab/3.3.0/libexec/lib/python3.9/site-packages (from fileupload) (5.1.1)\n",
      "Requirement already satisfied: notebook>=4.2 in /usr/local/Cellar/jupyterlab/3.3.0/libexec/lib/python3.9/site-packages (from fileupload) (6.4.8)\n",
      "Requirement already satisfied: ipywidgets>=5.1 in /usr/local/Cellar/jupyterlab/3.3.0/libexec/lib/python3.9/site-packages (from fileupload) (7.7.0)\n",
      "Requirement already satisfied: jupyterlab-widgets>=1.0.0 in /usr/local/Cellar/jupyterlab/3.3.0/libexec/lib/python3.9/site-packages (from ipywidgets>=5.1->fileupload) (1.1.0)\n",
      "Requirement already satisfied: nbformat>=4.2.0 in /usr/local/Cellar/jupyterlab/3.3.0/libexec/lib/python3.9/site-packages (from ipywidgets>=5.1->fileupload) (5.1.3)\n",
      "Requirement already satisfied: widgetsnbextension~=3.6.0 in /usr/local/Cellar/jupyterlab/3.3.0/libexec/lib/python3.9/site-packages (from ipywidgets>=5.1->fileupload) (3.6.0)\n",
      "Requirement already satisfied: ipykernel>=4.5.1 in /usr/local/Cellar/jupyterlab/3.3.0/libexec/lib/python3.9/site-packages (from ipywidgets>=5.1->fileupload) (6.9.1)\n",
      "Requirement already satisfied: ipython>=4.0.0 in /usr/local/Cellar/jupyterlab/3.3.0/libexec/lib/python3.9/site-packages (from ipywidgets>=5.1->fileupload) (8.1.1)\n",
      "Requirement already satisfied: ipython-genutils~=0.2.0 in /usr/local/Cellar/jupyterlab/3.3.0/libexec/lib/python3.9/site-packages (from ipywidgets>=5.1->fileupload) (0.2.0)\n",
      "Requirement already satisfied: tornado>=6.1 in /usr/local/Cellar/jupyterlab/3.3.0/libexec/lib/python3.9/site-packages (from notebook>=4.2->fileupload) (6.1)\n",
      "Requirement already satisfied: jupyter-core>=4.6.1 in /usr/local/Cellar/jupyterlab/3.3.0/libexec/lib/python3.9/site-packages (from notebook>=4.2->fileupload) (4.9.2)\n",
      "Requirement already satisfied: jinja2 in /usr/local/Cellar/jupyterlab/3.3.0/libexec/lib/python3.9/site-packages (from notebook>=4.2->fileupload) (3.0.3)\n",
      "Requirement already satisfied: Send2Trash>=1.8.0 in /usr/local/Cellar/jupyterlab/3.3.0/libexec/lib/python3.9/site-packages (from notebook>=4.2->fileupload) (1.8.0)\n",
      "Requirement already satisfied: jupyter-client>=5.3.4 in /usr/local/Cellar/jupyterlab/3.3.0/libexec/lib/python3.9/site-packages (from notebook>=4.2->fileupload) (7.1.2)\n",
      "Requirement already satisfied: pyzmq>=17 in /usr/local/Cellar/jupyterlab/3.3.0/libexec/lib/python3.9/site-packages (from notebook>=4.2->fileupload) (22.3.0)\n",
      "Requirement already satisfied: prometheus-client in /usr/local/Cellar/jupyterlab/3.3.0/libexec/lib/python3.9/site-packages (from notebook>=4.2->fileupload) (0.13.1)\n",
      "Requirement already satisfied: nest-asyncio>=1.5 in /usr/local/Cellar/jupyterlab/3.3.0/libexec/lib/python3.9/site-packages (from notebook>=4.2->fileupload) (1.5.4)\n",
      "Requirement already satisfied: nbconvert in /usr/local/Cellar/jupyterlab/3.3.0/libexec/lib/python3.9/site-packages (from notebook>=4.2->fileupload) (6.4.2)\n",
      "Requirement already satisfied: argon2-cffi in /usr/local/Cellar/jupyterlab/3.3.0/libexec/lib/python3.9/site-packages (from notebook>=4.2->fileupload) (21.3.0)\n",
      "Requirement already satisfied: terminado>=0.8.3 in /usr/local/Cellar/jupyterlab/3.3.0/libexec/lib/python3.9/site-packages (from notebook>=4.2->fileupload) (0.13.2)\n",
      "Requirement already satisfied: matplotlib-inline<0.2.0,>=0.1.0 in /usr/local/Cellar/jupyterlab/3.3.0/libexec/lib/python3.9/site-packages (from ipykernel>=4.5.1->ipywidgets>=5.1->fileupload) (0.1.3)\n",
      "Requirement already satisfied: appnope in /usr/local/Cellar/jupyterlab/3.3.0/libexec/lib/python3.9/site-packages (from ipykernel>=4.5.1->ipywidgets>=5.1->fileupload) (0.1.2)\n",
      "Requirement already satisfied: debugpy<2.0,>=1.0.0 in /usr/local/Cellar/jupyterlab/3.3.0/libexec/lib/python3.9/site-packages (from ipykernel>=4.5.1->ipywidgets>=5.1->fileupload) (1.5.1)\n",
      "Requirement already satisfied: setuptools>=18.5 in /usr/local/Cellar/jupyterlab/3.3.0/libexec/lib/python3.9/site-packages (from ipython>=4.0.0->ipywidgets>=5.1->fileupload) (60.5.0)\n",
      "Requirement already satisfied: pickleshare in /usr/local/Cellar/jupyterlab/3.3.0/libexec/lib/python3.9/site-packages (from ipython>=4.0.0->ipywidgets>=5.1->fileupload) (0.7.5)\n",
      "Requirement already satisfied: pygments>=2.4.0 in /usr/local/Cellar/jupyterlab/3.3.0/libexec/lib/python3.9/site-packages (from ipython>=4.0.0->ipywidgets>=5.1->fileupload) (2.11.2)\n",
      "Requirement already satisfied: pexpect>4.3 in /usr/local/Cellar/jupyterlab/3.3.0/libexec/lib/python3.9/site-packages (from ipython>=4.0.0->ipywidgets>=5.1->fileupload) (4.8.0)\n",
      "Requirement already satisfied: backcall in /usr/local/Cellar/jupyterlab/3.3.0/libexec/lib/python3.9/site-packages (from ipython>=4.0.0->ipywidgets>=5.1->fileupload) (0.2.0)\n",
      "Requirement already satisfied: stack-data in /usr/local/Cellar/jupyterlab/3.3.0/libexec/lib/python3.9/site-packages (from ipython>=4.0.0->ipywidgets>=5.1->fileupload) (0.2.0)\n",
      "Requirement already satisfied: decorator in /usr/local/Cellar/jupyterlab/3.3.0/libexec/lib/python3.9/site-packages (from ipython>=4.0.0->ipywidgets>=5.1->fileupload) (5.1.1)\n",
      "Requirement already satisfied: prompt-toolkit!=3.0.0,!=3.0.1,<3.1.0,>=2.0.0 in /usr/local/Cellar/jupyterlab/3.3.0/libexec/lib/python3.9/site-packages (from ipython>=4.0.0->ipywidgets>=5.1->fileupload) (3.0.28)\n",
      "Requirement already satisfied: jedi>=0.16 in /usr/local/Cellar/jupyterlab/3.3.0/libexec/lib/python3.9/site-packages (from ipython>=4.0.0->ipywidgets>=5.1->fileupload) (0.18.1)\n",
      "Requirement already satisfied: python-dateutil>=2.1 in /usr/local/Cellar/jupyterlab/3.3.0/libexec/lib/python3.9/site-packages (from jupyter-client>=5.3.4->notebook>=4.2->fileupload) (2.8.2)\n",
      "Requirement already satisfied: entrypoints in /usr/local/Cellar/jupyterlab/3.3.0/libexec/lib/python3.9/site-packages (from jupyter-client>=5.3.4->notebook>=4.2->fileupload) (0.4)\n",
      "Requirement already satisfied: jsonschema!=2.5.0,>=2.4 in /usr/local/Cellar/jupyterlab/3.3.0/libexec/lib/python3.9/site-packages (from nbformat>=4.2.0->ipywidgets>=5.1->fileupload) (4.4.0)\n",
      "Requirement already satisfied: ptyprocess in /usr/local/Cellar/jupyterlab/3.3.0/libexec/lib/python3.9/site-packages (from terminado>=0.8.3->notebook>=4.2->fileupload) (0.7.0)\n",
      "Requirement already satisfied: argon2-cffi-bindings in /usr/local/Cellar/jupyterlab/3.3.0/libexec/lib/python3.9/site-packages (from argon2-cffi->notebook>=4.2->fileupload) (21.2.0)\n",
      "Requirement already satisfied: MarkupSafe>=2.0 in /usr/local/Cellar/jupyterlab/3.3.0/libexec/lib/python3.9/site-packages (from jinja2->notebook>=4.2->fileupload) (2.1.0)\n",
      "Requirement already satisfied: mistune<2,>=0.8.1 in /usr/local/Cellar/jupyterlab/3.3.0/libexec/lib/python3.9/site-packages (from nbconvert->notebook>=4.2->fileupload) (0.8.4)\n",
      "Requirement already satisfied: jupyterlab_pygments in /usr/local/Cellar/jupyterlab/3.3.0/libexec/lib/python3.9/site-packages (from nbconvert->notebook>=4.2->fileupload) (0.1.2)\n",
      "Requirement already satisfied: bleach in /usr/local/Cellar/jupyterlab/3.3.0/libexec/lib/python3.9/site-packages (from nbconvert->notebook>=4.2->fileupload) (4.1.0)\n",
      "Requirement already satisfied: pandocfilters>=1.4.1 in /usr/local/Cellar/jupyterlab/3.3.0/libexec/lib/python3.9/site-packages (from nbconvert->notebook>=4.2->fileupload) (1.5.0)\n",
      "Requirement already satisfied: testpath in /usr/local/Cellar/jupyterlab/3.3.0/libexec/lib/python3.9/site-packages (from nbconvert->notebook>=4.2->fileupload) (0.6.0)\n",
      "Requirement already satisfied: defusedxml in /usr/local/Cellar/jupyterlab/3.3.0/libexec/lib/python3.9/site-packages (from nbconvert->notebook>=4.2->fileupload) (0.7.1)\n",
      "Requirement already satisfied: nbclient<0.6.0,>=0.5.0 in /usr/local/Cellar/jupyterlab/3.3.0/libexec/lib/python3.9/site-packages (from nbconvert->notebook>=4.2->fileupload) (0.5.11)\n",
      "Requirement already satisfied: parso<0.9.0,>=0.8.0 in /usr/local/Cellar/jupyterlab/3.3.0/libexec/lib/python3.9/site-packages (from jedi>=0.16->ipython>=4.0.0->ipywidgets>=5.1->fileupload) (0.8.3)\n",
      "Requirement already satisfied: attrs>=17.4.0 in /usr/local/Cellar/jupyterlab/3.3.0/libexec/lib/python3.9/site-packages (from jsonschema!=2.5.0,>=2.4->nbformat>=4.2.0->ipywidgets>=5.1->fileupload) (21.4.0)\n",
      "Requirement already satisfied: pyrsistent!=0.17.0,!=0.17.1,!=0.17.2,>=0.14.0 in /usr/local/Cellar/jupyterlab/3.3.0/libexec/lib/python3.9/site-packages (from jsonschema!=2.5.0,>=2.4->nbformat>=4.2.0->ipywidgets>=5.1->fileupload) (0.18.1)\n"
     ]
    },
    {
     "name": "stdout",
     "output_type": "stream",
     "text": [
      "Requirement already satisfied: wcwidth in /usr/local/Cellar/jupyterlab/3.3.0/libexec/lib/python3.9/site-packages (from prompt-toolkit!=3.0.0,!=3.0.1,<3.1.0,>=2.0.0->ipython>=4.0.0->ipywidgets>=5.1->fileupload) (0.2.5)\n",
      "Requirement already satisfied: six>=1.5 in /usr/local/Cellar/six/1.16.0_2/lib/python3.9/site-packages (from python-dateutil>=2.1->jupyter-client>=5.3.4->notebook>=4.2->fileupload) (1.16.0)\n",
      "Requirement already satisfied: cffi>=1.0.1 in /usr/local/Cellar/jupyterlab/3.3.0/libexec/lib/python3.9/site-packages (from argon2-cffi-bindings->argon2-cffi->notebook>=4.2->fileupload) (1.15.0)\n",
      "Requirement already satisfied: packaging in /usr/local/Cellar/jupyterlab/3.3.0/libexec/lib/python3.9/site-packages (from bleach->nbconvert->notebook>=4.2->fileupload) (21.3)\n",
      "Requirement already satisfied: webencodings in /usr/local/Cellar/jupyterlab/3.3.0/libexec/lib/python3.9/site-packages (from bleach->nbconvert->notebook>=4.2->fileupload) (0.5.1)\n",
      "Requirement already satisfied: pure-eval in /usr/local/Cellar/jupyterlab/3.3.0/libexec/lib/python3.9/site-packages (from stack-data->ipython>=4.0.0->ipywidgets>=5.1->fileupload) (0.2.2)\n",
      "Requirement already satisfied: asttokens in /usr/local/Cellar/jupyterlab/3.3.0/libexec/lib/python3.9/site-packages (from stack-data->ipython>=4.0.0->ipywidgets>=5.1->fileupload) (2.0.5)\n",
      "Requirement already satisfied: executing in /usr/local/Cellar/jupyterlab/3.3.0/libexec/lib/python3.9/site-packages (from stack-data->ipython>=4.0.0->ipywidgets>=5.1->fileupload) (0.8.3)\n",
      "Requirement already satisfied: pycparser in /usr/local/Cellar/jupyterlab/3.3.0/libexec/lib/python3.9/site-packages (from cffi>=1.0.1->argon2-cffi-bindings->argon2-cffi->notebook>=4.2->fileupload) (2.21)\n",
      "Requirement already satisfied: pyparsing!=3.0.5,>=2.0.2 in /usr/local/Cellar/jupyterlab/3.3.0/libexec/lib/python3.9/site-packages (from packaging->bleach->nbconvert->notebook>=4.2->fileupload) (3.0.7)\n"
     ]
    },
    {
     "data": {
      "application/vnd.jupyter.widget-view+json": {
       "model_id": "8b959856926b43eb8491838ca8e23739",
       "version_major": 2,
       "version_minor": 0
      },
      "text/plain": [
       "FileUploadWidget(label='Browse', _dom_classes=('widget_item', 'btn-group'))"
      ]
     },
     "metadata": {},
     "output_type": "display_data"
    }
   ],
   "source": [
    "# from ipywidgets import FileUpload\n",
    "# upload = FileUpload()\n",
    "# upload\n",
    "# !{sys.executable} -m pip install fileupload\n",
    "# from IPython.display import display\n",
    "# import fileupload\n",
    "\n",
    "# uploader = fileupload.FileUploadWidget()\n",
    "\n",
    "# def _handle_upload(change):\n",
    "#     w = change['owner']\n",
    "#     with open(w.filename, 'wb') as f:\n",
    "#         f.write(w.data)\n",
    "#     print('Uploaded `{}` ({:.2f} kB)'.format(\n",
    "#         w.filename, len(w.data) / 2**10))\n",
    "\n",
    "# uploader.observe(_handle_upload, names='data')\n",
    "\n",
    "# display(uploader)"
   ]
  },
  {
   "cell_type": "markdown",
   "metadata": {},
   "source": [
    "Proceeding with default values"
   ]
  },
  {
   "cell_type": "code",
   "execution_count": 4,
   "metadata": {},
   "outputs": [
    {
     "ename": "NameError",
     "evalue": "name 'uploader' is not defined",
     "output_type": "error",
     "traceback": [
      "\u001b[0;31m---------------------------------------------------------------------------\u001b[0m",
      "\u001b[0;31mNameError\u001b[0m                                 Traceback (most recent call last)",
      "\u001b[0;32m/var/folders/xb/7x2qm97153q23rhtss8tmvwm0000gn/T/ipykernel_6884/1736696345.py\u001b[0m in \u001b[0;36m<module>\u001b[0;34m\u001b[0m\n\u001b[1;32m      1\u001b[0m \u001b[0;32mfrom\u001b[0m \u001b[0mapple_health_exporter\u001b[0m \u001b[0;32mimport\u001b[0m \u001b[0mexport\u001b[0m\u001b[0;34m\u001b[0m\u001b[0;34m\u001b[0m\u001b[0m\n\u001b[1;32m      2\u001b[0m \u001b[0;34m\u001b[0m\u001b[0m\n\u001b[0;32m----> 3\u001b[0;31m \u001b[0mexport\u001b[0m\u001b[0;34m.\u001b[0m\u001b[0mhealth_xml_to_feather\u001b[0m\u001b[0;34m(\u001b[0m\u001b[0mzip_file\u001b[0m\u001b[0;34m=\u001b[0m\u001b[0muploader\u001b[0m\u001b[0;34m.\u001b[0m\u001b[0mfilename\u001b[0m\u001b[0;34m,\u001b[0m\u001b[0moutput_file\u001b[0m\u001b[0;34m=\u001b[0m\u001b[0;34m'./data.feather'\u001b[0m\u001b[0;34m)\u001b[0m\u001b[0;34m\u001b[0m\u001b[0;34m\u001b[0m\u001b[0m\n\u001b[0m\u001b[1;32m      4\u001b[0m \u001b[0;34m\u001b[0m\u001b[0m\n\u001b[1;32m      5\u001b[0m \u001b[0;32mimport\u001b[0m \u001b[0mpandas\u001b[0m \u001b[0;32mas\u001b[0m \u001b[0mpd\u001b[0m\u001b[0;34m\u001b[0m\u001b[0;34m\u001b[0m\u001b[0m\n",
      "\u001b[0;31mNameError\u001b[0m: name 'uploader' is not defined"
     ]
    }
   ],
   "source": [
    "from apple_health_exporter import export\n",
    "\n",
    "export.health_xml_to_feather(zip_file=uploader.filename,output_file='./data.feather')\n",
    "\n",
    "import pandas as pd\n",
    "data = pd.read_feather(\"data.feather\")\n",
    "# data.groupby(\"type\").size()\n",
    "\n"
   ]
  },
  {
   "cell_type": "markdown",
   "metadata": {},
   "source": [
    "# Metrics and their respective data types\n",
    "\n",
    "1. **Distance Cycling** : HKQuantityTypeIdentifierDistanceCycling\n",
    "2. **Double support time** : HKQuantityTypeIdentifierWalkingDoubleSupportPercentage\n",
    "3. **Exercise minutes** :\n",
    "4. **Six minute walk** : HKQuantityTypeIdentifierSixMinuteWalkTestDistance\n",
    "5. **Stair speed down** : HKQuantityTypeIdentifierStairDescentSpeed\n",
    "6. **Stair speed up** : HKQuantityTypeIdentifierStairAscentSpeed\n",
    "7. **Step length** : HKQuantityTypeIdentifierWalkingStepLength\n",
    "8. **Walking and running distance** : HKQuantityTypeIdentifierDistanceWalkingRunning\n",
    "9. **Walking assymetry** : HKQuantityTypeIdentifierWalkingAsymmetryPercentage \n",
    "10. **Walking speed** : HKQuantityTypeIdentifierWalkingSpeed \n",
    "11. **Walking steadyness** (last 4 weeks) : HKQuantityTypeIdentifierAppleWalkingSteadiness\n",
    "\n",
    "## Distance cycling\n",
    "\n",
    "This value is calculated using the iPhone's GPS every time the user registers a Cycling Workout.\n",
    "\n",
    "\n",
    "## Double support time \n",
    "\n",
    "> This is the percentage of time during a walk that both feet are on the ground. A lower value means you spend more of your walk with your weight on one foot instead of two, which can be a sign of better balance. During a typical walk this measure will fall between 20 and 40%.\n",
    ">\n",
    "> Walking requires strength and coordination. Changes in these can affect your balance and two-foot contact time.\n",
    ">\n",
    "> Double support time naturally varies with how fast vou walk and the terrain, but may increase with age.\n",
    ">\n",
    "> Double support time is recorded automatically on iPhone when you carry your phone near vour waist, such as in a trouser pocket, and walk steadily over flat ground.\n",
    "\n",
    "**Source:** Apple Health App on iOS 15.4\n",
    "\n",
    "## Exercise minutes\n",
    "\n",
    "> Every full minute of movement equal to or\n",
    "exceeding the intensity of a brisk walk for vou\n",
    "counts towards our dailv Exercise minutes.\n",
    "\n",
    "**Source:** Apple Health App on iOS 15.4\n",
    "\n",
    "## Six minute walk\n",
    "\n",
    "> This is an estimate of how far you can walk on\n",
    "flat ground in six minutes based on a week of\n",
    "vour motion and workout data. The fitter vou\n",
    "are, the higher this number will be.\n",
    ">\n",
    "> This prediction is considered a measure of your\n",
    "capacity for exercise. Longer distances are\n",
    "associated with healthier cardiac, respiratory,\n",
    "circulatory and neuromuscular function, and\n",
    "may reflect your ability to perform everyday\n",
    "activities. Improvements in fitness and mobility\n",
    "can increase our six-minute walk distance.\n",
    ">\n",
    "> The standard six-minute walk test measures\n",
    "the maximum number of metres you can walk\n",
    "on an unobstructed, flat course doing laps of a\n",
    "standard length. The test is often given to\n",
    "those who are recovering from a cardiac or\n",
    "respiratory condition. You can get a predicted\n",
    "six-minute walk distance up to 500 metres\n",
    "using data from a device, such as Apple Watch.\n",
    "\n",
    "**Source:** Apple Health App on iOS 15.4\n",
    "\n",
    "## Stair speed down\n",
    "\n",
    "> This is a measurement of how fast vou walk\n",
    "down the stairs.\n",
    ">\n",
    "> Descending stairs safely is an important\n",
    "indicator of our overall mobility.\n",
    "> Descending stairs requires strength and\n",
    "coordination. Changes in these factors, or pain,\n",
    "can affect your speed.\n",
    "> Apple Watch records your vertical speed when\n",
    "you go down a flight that is at least 3 metres\n",
    "(10 feet).\n",
    "\n",
    "**Source:** Apple Health App on iOS 15.4\n",
    "\n",
    "\n",
    "## Stair speed up \n",
    "\n",
    ">This is a measurement of how fast vou walk up\n",
    "the stairs.\n",
    ">\n",
    "> Climbing stairs quickly can be a sign of strong\n",
    "cardiovascular and musculoskeletal health.\n",
    ">\n",
    "> Walking up stairs requires strength,\n",
    "coordination and aerobic fitness. Changes in\n",
    "these factors, or pain, can affect your speed.\n",
    "Apple Watch records your vertical speed when\n",
    "you go up a flight that is at least 3 metres (10\n",
    "feet).\n",
    "\n",
    "**Source:** Apple Health App on iOS 15.4\n",
    "\n",
    "## Step lenght \n",
    "\n",
    "## Walking and running distance\n",
    "\n",
    "## Walking assymetry\n",
    "\n",
    "> In a healthy walking pattern, the timing of the steps you take with each foot are very similar. Walking asymmetry is the per cent of time your steps with one foot are faster or slower than the other foot. This means the lower the percentage of asymmetry, the healthier your walking pattern.\n",
    ">\n",
    "> Uneven walking patterns, such as limping, can\n",
    "be a sign of disease, injury or other health\n",
    "issues. An even or symmetrical walk is often an\n",
    "important physical theraov goal when\n",
    "recovering from injury.\n",
    "> \n",
    "> Your iPhone can record walking asymmetry\n",
    "automaticallv when vou carrv vour phone near\n",
    "your waist - such as in a pocket - and walk\n",
    "steadilv on flat ground.\n",
    "\n",
    "**Source:** Apple Health App on iOS 15.4\n",
    "\n",
    "\n",
    "\n",
    "## Walking speed\n",
    "\n",
    "\n",
    "\n",
    "## Walking steadyness\n",
    "\n",
    "> This is an estimate of your stability while\n",
    "walking. iPhone calculates Walking Steadiness\n",
    "using your walking speed, step length, double\n",
    "support time and walking asymmetry data\n",
    "that's stored in Health. This provides a sense of\n",
    "the way you walk.\n",
    ">\n",
    "> Your steadiness is also related to your fall risk.\n",
    "As steadiness goes down, your risk of falling\n",
    "goes up. Walking Steadiness is not an\n",
    "indication of how likelv vou are to fall in anv\n",
    "given moment, but an overall sense of fall risk\n",
    "in the next 12 months.\n",
    "> \n",
    "> iPhone can automatically record your Walking\n",
    "Steadiness in Health when you carry your\n",
    "iPhone in a pocket or holder near our waist.\n",
    "You can also receive a notification if vour\n",
    "Walking Steadiness is low or very low. You can\n",
    "manage these notifications in Health Checklist.\n",
    "\n",
    "**Source:** Apple Health App on iOS 15.4\n",
    "\n",
    "\n"
   ]
  },
  {
   "cell_type": "markdown",
   "metadata": {},
   "source": [
    "Callable object methods in the `data` variable:\n",
    "\n",
    "```\n",
    "['__abs__', '__add__', '__and__', '__array__', '__array_ufunc__', '__array_wrap__', '__bool__', '__class__', '__contains__', '__copy__', '__deepcopy__', '__delattr__', '__delitem__', '__dir__', '__divmod__', '__eq__', '__finalize__', '__floordiv__', '__format__', '__ge__', '__getattr__', '__getattribute__', '__getitem__', '__getstate__', '__gt__', '__iadd__', '__iand__', '__ifloordiv__', '__imod__', '__imul__', '__init__', '__init_subclass__', '__invert__', '__ior__', '__ipow__', '__isub__', '__iter__', '__itruediv__', '__ixor__', '__le__', '__len__', '__lt__', '__matmul__', '__mod__', '__mul__', '__ne__', '__neg__', '__new__', '__nonzero__', '__or__', '__pos__', '__pow__', '__radd__', '__rand__', '__rdivmod__', '__reduce__', '__reduce_ex__', '__repr__', '__rfloordiv__', '__rmatmul__', '__rmod__', '__rmul__', '__ror__', '__round__', '__rpow__', '__rsub__', '__rtruediv__', '__rxor__', '__setattr__', '__setitem__', '__setstate__', '__sizeof__', '__str__', '__sub__', '__subclasshook__', '__truediv__', '__weakref__', '__xor__', '_accum_func', '_add_numeric_operations', '_agg_by_level', '_align_frame', '_align_series', '_arith_method', '_as_manager', '_box_col_values', '_check_inplace_and_allows_duplicate_labels', '_check_inplace_setting', '_check_is_chained_assignment_possible', '_check_label_or_level_ambiguity', '_check_setitem_copy', '_clear_item_cache', '_clip_with_one_bound', '_clip_with_scalar', '_cmp_method', '_combine_frame', '_consolidate', '_consolidate_inplace', '_construct_axes_dict', '_construct_axes_from_arguments', '_construct_result', '_constructor', '_constructor_sliced', '_convert', '_count_level', '_dir_additions', '_dir_deletions', '_dispatch_frame_op', '_drop_axis', '_drop_labels_or_levels', '_ensure_valid_index', '_find_valid_index', '_from_arrays', '_from_mgr', '_get_agg_axis', '_get_axis', '_get_axis_name', '_get_axis_number', '_get_axis_resolvers', '_get_block_manager_axis', '_get_bool_data', '_get_cleaned_column_resolvers', '_get_column_array', '_get_index_resolvers', '_get_item_cache', '_get_label_or_level_values', '_get_numeric_data', '_get_value', '_getitem_bool_array', '_getitem_multilevel', '_gotitem', '_indexed_same', '_info_repr', '_init_mgr', '_inplace_method', '_is_label_or_level_reference', '_is_label_reference', '_is_level_reference', '_iset_item', '_iset_item_mgr', '_iset_not_inplace', '_iter_column_arrays', '_ixs', '_join_compat', '_logical_func', '_logical_method', '_maybe_cache_changed', '_maybe_update_cacher', '_min_count_stat_function', '_needs_reindex_multi', '_protect_consolidate', '_reduce', '_reindex_axes', '_reindex_columns', '_reindex_index', '_reindex_multi', '_reindex_with_indexers', '_replace_columnwise', '_repr_data_resource_', '_repr_fits_horizontal_', '_repr_fits_vertical_', '_repr_html_', '_repr_latex_', '_reset_cache', '_reset_cacher', '_sanitize_column', '_set_axis', '_set_axis_name', '_set_axis_nocheck', '_set_is_copy', '_set_item', '_set_item_frame_value', '_set_item_mgr', '_set_value', '_setitem_array', '_setitem_frame', '_setitem_slice', '_slice', '_stat_function', '_stat_function_ddof', '_take_with_is_copy', '_to_dict_of_blocks', '_update_inplace', '_validate_dtype', '_where', 'abs', 'add', 'add_prefix', 'add_suffix', 'agg', 'aggregate', 'align', 'all', 'any', 'append', 'apply', 'applymap', 'asfreq', 'asof', 'assign', 'astype', 'at_time', 'backfill', 'between_time', 'bfill', 'bool', 'boxplot', 'clip', 'combine', 'combine_first', 'compare', 'convert_dtypes', 'copy', 'corr', 'corrwith', 'count', 'cov', 'cummax', 'cummin', 'cumprod', 'cumsum', 'describe', 'diff', 'div', 'divide', 'dot', 'drop', 'drop_duplicates', 'droplevel', 'dropna', 'duplicated', 'eq', 'equals', 'eval', 'ewm', 'expanding', 'explode', 'ffill', 'fillna', 'filter', 'first', 'first_valid_index', 'floordiv', 'from_dict', 'from_records', 'ge', 'get', 'groupby', 'gt', 'head', 'hist', 'idxmax', 'idxmin', 'iloc', 'infer_objects', 'info', 'insert', 'interpolate', 'isin', 'isna', 'isnull', 'items', 'iteritems', 'iterrows', 'itertuples', 'join', 'keys', 'kurt', 'kurtosis', 'last', 'last_valid_index', 'le', 'loc', 'lookup', 'lt', 'mad', 'mask', 'max', 'mean', 'median', 'melt', 'memory_usage', 'merge', 'min', 'mod', 'mode', 'mul', 'multiply', 'ne', 'nlargest', 'notna', 'notnull', 'nsmallest', 'nunique', 'pad', 'pct_change', 'pipe', 'pivot', 'pivot_table', 'plot', 'pop', 'pow', 'prod', 'product', 'quantile', 'query', 'radd', 'rank', 'rdiv', 'reindex', 'reindex_like', 'rename', 'rename_axis', 'reorder_levels', 'replace', 'resample', 'reset_index', 'rfloordiv', 'rmod', 'rmul', 'rolling', 'round', 'rpow', 'rsub', 'rtruediv', 'sample', 'select_dtypes', 'sem', 'set_axis', 'set_flags', 'set_index', 'shift', 'skew', 'slice_shift', 'sort_index', 'sort_values', 'squeeze', 'stack', 'std', 'sub', 'subtract', 'sum', 'swapaxes', 'swaplevel', 'tail', 'take', 'to_clipboard', 'to_csv', 'to_dict', 'to_excel', 'to_feather', 'to_gbq', 'to_hdf', 'to_html', 'to_json', 'to_latex', 'to_markdown', 'to_numpy', 'to_parquet', 'to_period', 'to_pickle', 'to_records', 'to_sql', 'to_stata', 'to_string', 'to_timestamp', 'to_xarray', 'to_xml', 'transform', 'transpose', 'truediv', 'truncate', 'tz_convert', 'tz_localize', 'unstack', 'update', 'value_counts', 'var', 'where', 'xs']\n",
    "```"
   ]
  },
  {
   "cell_type": "markdown",
   "metadata": {},
   "source": [
    "Get walking distance as a new dataframe"
   ]
  },
  {
   "cell_type": "code",
   "execution_count": 19,
   "metadata": {},
   "outputs": [
    {
     "ename": "NameError",
     "evalue": "name 'data' is not defined",
     "output_type": "error",
     "traceback": [
      "\u001b[0;31m---------------------------------------------------------------------------\u001b[0m",
      "\u001b[0;31mNameError\u001b[0m                                 Traceback (most recent call last)",
      "Input \u001b[0;32mIn [19]\u001b[0m, in \u001b[0;36m<cell line: 1>\u001b[0;34m()\u001b[0m\n\u001b[0;32m----> 1\u001b[0m walking_distance \u001b[38;5;241m=\u001b[39m \u001b[43mdata\u001b[49m\u001b[38;5;241m.\u001b[39mloc[data[\u001b[38;5;124m'\u001b[39m\u001b[38;5;124mtype\u001b[39m\u001b[38;5;124m'\u001b[39m] \u001b[38;5;241m==\u001b[39m \u001b[38;5;124m'\u001b[39m\u001b[38;5;124mHKQuantityTypeIdentifierDistanceWalkingRunning\u001b[39m\u001b[38;5;124m'\u001b[39m]\n\u001b[1;32m      2\u001b[0m walking_distance\n",
      "\u001b[0;31mNameError\u001b[0m: name 'data' is not defined"
     ]
    }
   ],
   "source": [
    "walking_distance = data.loc[data['type'] == 'HKQuantityTypeIdentifierDistanceWalkingRunning']\n",
    "walking_distance"
   ]
  },
  {
   "cell_type": "code",
   "execution_count": 20,
   "metadata": {},
   "outputs": [
    {
     "ename": "NameError",
     "evalue": "name 'pd' is not defined",
     "output_type": "error",
     "traceback": [
      "\u001b[0;31m---------------------------------------------------------------------------\u001b[0m",
      "\u001b[0;31mNameError\u001b[0m                                 Traceback (most recent call last)",
      "Input \u001b[0;32mIn [20]\u001b[0m, in \u001b[0;36m<cell line: 3>\u001b[0;34m()\u001b[0m\n\u001b[1;32m      1\u001b[0m \u001b[38;5;28;01mfrom\u001b[39;00m \u001b[38;5;21;01mdatetime\u001b[39;00m \u001b[38;5;28;01mimport\u001b[39;00m datetime\n\u001b[1;32m      2\u001b[0m datetime\u001b[38;5;241m.\u001b[39mnow()\n\u001b[0;32m----> 3\u001b[0m lastdayfrom \u001b[38;5;241m=\u001b[39m \u001b[43mpd\u001b[49m\u001b[38;5;241m.\u001b[39mto_datetime(datetime\u001b[38;5;241m.\u001b[39mnow())\n\u001b[1;32m      5\u001b[0m walking_distance \u001b[38;5;241m=\u001b[39m walking_distance\u001b[38;5;241m.\u001b[39mset_index(\u001b[38;5;124m'\u001b[39m\u001b[38;5;124mstartDate\u001b[39m\u001b[38;5;124m'\u001b[39m)\n\u001b[1;32m      6\u001b[0m walking_distance\u001b[38;5;241m.\u001b[39msort_index()\n",
      "\u001b[0;31mNameError\u001b[0m: name 'pd' is not defined"
     ]
    }
   ],
   "source": [
    "from datetime import datetime\n",
    "datetime.now()\n",
    "lastdayfrom = pd.to_datetime(datetime.now())\n",
    "\n",
    "walking_distance = walking_distance.set_index('startDate')\n",
    "walking_distance.sort_index()\n",
    "walking_distance"
   ]
  },
  {
   "cell_type": "code",
   "execution_count": 21,
   "metadata": {},
   "outputs": [
    {
     "ename": "NameError",
     "evalue": "name 'walking_distance' is not defined",
     "output_type": "error",
     "traceback": [
      "\u001b[0;31m---------------------------------------------------------------------------\u001b[0m",
      "\u001b[0;31mNameError\u001b[0m                                 Traceback (most recent call last)",
      "Input \u001b[0;32mIn [21]\u001b[0m, in \u001b[0;36m<cell line: 1>\u001b[0;34m()\u001b[0m\n\u001b[0;32m----> 1\u001b[0m last30days_walking \u001b[38;5;241m=\u001b[39m \u001b[43mwalking_distance\u001b[49m\u001b[38;5;241m.\u001b[39mloc[lastdayfrom \u001b[38;5;241m-\u001b[39m pd\u001b[38;5;241m.\u001b[39mTimedelta(days\u001b[38;5;241m=\u001b[39m\u001b[38;5;241m30\u001b[39m):lastdayfrom]\u001b[38;5;241m.\u001b[39mreset_index()\n\u001b[1;32m      2\u001b[0m last30days_walking\n",
      "\u001b[0;31mNameError\u001b[0m: name 'walking_distance' is not defined"
     ]
    }
   ],
   "source": [
    "last30days_walking = walking_distance.loc[lastdayfrom - pd.Timedelta(days=30):lastdayfrom].reset_index()\n",
    "last30days_walking"
   ]
  }
 ],
 "metadata": {
  "interpreter": {
   "hash": "0277b96b14c425842615228913045a7658c691e0d3917c6c6b1fa9e121a8c5d3"
  },
  "kernelspec": {
   "display_name": "Python 3 (ipykernel)",
   "language": "python",
   "name": "python3"
  },
  "language_info": {
   "codemirror_mode": {
    "name": "ipython",
    "version": 3
   },
   "file_extension": ".py",
   "mimetype": "text/x-python",
   "name": "python",
   "nbconvert_exporter": "python",
   "pygments_lexer": "ipython3",
   "version": "3.7.2"
  }
 },
 "nbformat": 4,
 "nbformat_minor": 2
}
